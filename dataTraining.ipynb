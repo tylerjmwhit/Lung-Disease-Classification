{
 "cells": [
  {
   "cell_type": "code",
   "execution_count": 3,
   "metadata": {},
   "outputs": [],
   "source": [
    "import pandas as pd\n",
    "import numpy as np\n",
    "import matplotlib.pyplot as plt\n",
    "import keras\n",
    "from sklearn.utils import shuffle\n",
    "from sklearn.preprocessing import OneHotEncoder\n",
    "from pickle import load,dump\n",
    "from keras import backend as K"
   ]
  },
  {
   "cell_type": "code",
   "execution_count": 4,
   "metadata": {
    "pycharm": {
     "name": "#%%\n"
    }
   },
   "outputs": [],
   "source": [
    "df = pd.read_csv(\"C:/Users/Tyler/PycharmProjects/EE485_Final_Project/labeled_df.csv\")\n",
    "df = df.drop('Unnamed: 0', axis =1)"
   ]
  },
  {
   "cell_type": "code",
   "execution_count": 4,
   "outputs": [],
   "source": [],
   "metadata": {
    "collapsed": false,
    "pycharm": {
     "name": "#%%\n"
    }
   }
  },
  {
   "cell_type": "code",
   "execution_count": 5,
   "metadata": {
    "pycharm": {
     "name": "#%%\n"
    }
   },
   "outputs": [
    {
     "data": {
      "text/plain": "Index(['R', 'G', 'B', 'Label'], dtype='object')"
     },
     "execution_count": 5,
     "metadata": {},
     "output_type": "execute_result"
    }
   ],
   "source": [
    "df.columns"
   ]
  },
  {
   "cell_type": "code",
   "execution_count": 6,
   "outputs": [],
   "source": [
    "df.drop_duplicates(inplace=True)\n",
    "df.reset_index(drop=True, inplace=True)"
   ],
   "metadata": {
    "collapsed": false,
    "pycharm": {
     "name": "#%%\n"
    }
   }
  },
  {
   "cell_type": "code",
   "execution_count": 7,
   "outputs": [
    {
     "data": {
      "text/plain": "                                                       R  \\\n0      [255, 255, 255, 255, 255, 255, 255, 255, 255, ...   \n1      [255, 255, 255, 207, 140, 167, 188, 190, 167, ...   \n2      [167, 173, 152, 206, 255, 255, 255, 255, 255, ...   \n3      [255, 255, 255, 255, 255, 255, 255, 255, 255, ...   \n4      [255, 255, 255, 255, 255, 255, 255, 255, 255, ...   \n...                                                  ...   \n90898  [199, 153, 165, 191, 219, 204, 167, 177, 188, ...   \n90899  [188, 139, 124, 120, 255, 255, 255, 255, 255, ...   \n90900  [193, 200, 167, 175, 162, 183, 185, 164, 163, ...   \n90901  [163, 203, 184, 199, 255, 221, 168, 154, 176, ...   \n90902  [176, 169, 185, 167, 221, 245, 175, 161, 165, ...   \n\n                                                       G  \\\n0      [255, 255, 255, 255, 255, 255, 255, 255, 255, ...   \n1      [255, 255, 160, 0, 0, 0, 0, 0, 0, 0, 0, 0, 141...   \n2      [0, 0, 0, 0, 141, 255, 255, 255, 255, 255, 255...   \n3      [255, 255, 255, 255, 255, 255, 255, 255, 255, ...   \n4      [255, 255, 255, 255, 255, 255, 255, 255, 255, ...   \n...                                                  ...   \n90898  [0, 0, 0, 0, 0, 0, 0, 0, 0, 0, 0, 0, 9, 255, 2...   \n90899  [0, 0, 0, 0, 9, 255, 255, 255, 255, 255, 255, ...   \n90900  [0, 0, 0, 0, 0, 0, 0, 0, 0, 0, 0, 0, 159, 0, 0...   \n90901  [0, 0, 0, 0, 159, 0, 0, 0, 0, 0, 0, 0, 0, 0, 0...   \n90902  [0, 0, 0, 0, 0, 0, 0, 0, 0, 0, 0, 0, 0, 0, 35,...   \n\n                                                       B         Label  \n0      [137, 145, 184, 127, 167, 175, 149, 124, 196, ...  micronodules  \n1      [196, 94, 0, 0, 0, 0, 0, 0, 0, 0, 0, 0, 0, 87,...  micronodules  \n2      [0, 0, 0, 0, 0, 87, 31, 16, 75, 180, 255, 255,...  micronodules  \n3      [142, 55, 139, 175, 153, 129, 100, 126, 159, 1...  micronodules  \n4      [159, 159, 161, 201, 210, 189, 205, 238, 191, ...  micronodules  \n...                                                  ...           ...  \n90898  [0, 0, 0, 0, 0, 0, 0, 0, 0, 0, 0, 0, 0, 255, 1...     emphysema  \n90899  [0, 0, 0, 0, 0, 255, 173, 180, 150, 100, 191, ...     emphysema  \n90900  [0, 0, 0, 0, 0, 0, 0, 0, 0, 0, 0, 0, 0, 0, 0, ...     emphysema  \n90901  [0, 0, 0, 0, 0, 0, 0, 0, 0, 0, 0, 0, 0, 0, 0, ...     emphysema  \n90902  [0, 0, 0, 0, 0, 0, 0, 0, 0, 0, 0, 0, 0, 0, 0, ...     emphysema  \n\n[90903 rows x 4 columns]",
      "text/html": "<div>\n<style scoped>\n    .dataframe tbody tr th:only-of-type {\n        vertical-align: middle;\n    }\n\n    .dataframe tbody tr th {\n        vertical-align: top;\n    }\n\n    .dataframe thead th {\n        text-align: right;\n    }\n</style>\n<table border=\"1\" class=\"dataframe\">\n  <thead>\n    <tr style=\"text-align: right;\">\n      <th></th>\n      <th>R</th>\n      <th>G</th>\n      <th>B</th>\n      <th>Label</th>\n    </tr>\n  </thead>\n  <tbody>\n    <tr>\n      <th>0</th>\n      <td>[255, 255, 255, 255, 255, 255, 255, 255, 255, ...</td>\n      <td>[255, 255, 255, 255, 255, 255, 255, 255, 255, ...</td>\n      <td>[137, 145, 184, 127, 167, 175, 149, 124, 196, ...</td>\n      <td>micronodules</td>\n    </tr>\n    <tr>\n      <th>1</th>\n      <td>[255, 255, 255, 207, 140, 167, 188, 190, 167, ...</td>\n      <td>[255, 255, 160, 0, 0, 0, 0, 0, 0, 0, 0, 0, 141...</td>\n      <td>[196, 94, 0, 0, 0, 0, 0, 0, 0, 0, 0, 0, 0, 87,...</td>\n      <td>micronodules</td>\n    </tr>\n    <tr>\n      <th>2</th>\n      <td>[167, 173, 152, 206, 255, 255, 255, 255, 255, ...</td>\n      <td>[0, 0, 0, 0, 141, 255, 255, 255, 255, 255, 255...</td>\n      <td>[0, 0, 0, 0, 0, 87, 31, 16, 75, 180, 255, 255,...</td>\n      <td>micronodules</td>\n    </tr>\n    <tr>\n      <th>3</th>\n      <td>[255, 255, 255, 255, 255, 255, 255, 255, 255, ...</td>\n      <td>[255, 255, 255, 255, 255, 255, 255, 255, 255, ...</td>\n      <td>[142, 55, 139, 175, 153, 129, 100, 126, 159, 1...</td>\n      <td>micronodules</td>\n    </tr>\n    <tr>\n      <th>4</th>\n      <td>[255, 255, 255, 255, 255, 255, 255, 255, 255, ...</td>\n      <td>[255, 255, 255, 255, 255, 255, 255, 255, 255, ...</td>\n      <td>[159, 159, 161, 201, 210, 189, 205, 238, 191, ...</td>\n      <td>micronodules</td>\n    </tr>\n    <tr>\n      <th>...</th>\n      <td>...</td>\n      <td>...</td>\n      <td>...</td>\n      <td>...</td>\n    </tr>\n    <tr>\n      <th>90898</th>\n      <td>[199, 153, 165, 191, 219, 204, 167, 177, 188, ...</td>\n      <td>[0, 0, 0, 0, 0, 0, 0, 0, 0, 0, 0, 0, 9, 255, 2...</td>\n      <td>[0, 0, 0, 0, 0, 0, 0, 0, 0, 0, 0, 0, 0, 255, 1...</td>\n      <td>emphysema</td>\n    </tr>\n    <tr>\n      <th>90899</th>\n      <td>[188, 139, 124, 120, 255, 255, 255, 255, 255, ...</td>\n      <td>[0, 0, 0, 0, 9, 255, 255, 255, 255, 255, 255, ...</td>\n      <td>[0, 0, 0, 0, 0, 255, 173, 180, 150, 100, 191, ...</td>\n      <td>emphysema</td>\n    </tr>\n    <tr>\n      <th>90900</th>\n      <td>[193, 200, 167, 175, 162, 183, 185, 164, 163, ...</td>\n      <td>[0, 0, 0, 0, 0, 0, 0, 0, 0, 0, 0, 0, 159, 0, 0...</td>\n      <td>[0, 0, 0, 0, 0, 0, 0, 0, 0, 0, 0, 0, 0, 0, 0, ...</td>\n      <td>emphysema</td>\n    </tr>\n    <tr>\n      <th>90901</th>\n      <td>[163, 203, 184, 199, 255, 221, 168, 154, 176, ...</td>\n      <td>[0, 0, 0, 0, 159, 0, 0, 0, 0, 0, 0, 0, 0, 0, 0...</td>\n      <td>[0, 0, 0, 0, 0, 0, 0, 0, 0, 0, 0, 0, 0, 0, 0, ...</td>\n      <td>emphysema</td>\n    </tr>\n    <tr>\n      <th>90902</th>\n      <td>[176, 169, 185, 167, 221, 245, 175, 161, 165, ...</td>\n      <td>[0, 0, 0, 0, 0, 0, 0, 0, 0, 0, 0, 0, 0, 0, 35,...</td>\n      <td>[0, 0, 0, 0, 0, 0, 0, 0, 0, 0, 0, 0, 0, 0, 0, ...</td>\n      <td>emphysema</td>\n    </tr>\n  </tbody>\n</table>\n<p>90903 rows × 4 columns</p>\n</div>"
     },
     "execution_count": 7,
     "metadata": {},
     "output_type": "execute_result"
    }
   ],
   "source": [
    "df"
   ],
   "metadata": {
    "collapsed": false,
    "pycharm": {
     "name": "#%%\n"
    }
   }
  },
  {
   "cell_type": "code",
   "execution_count": 8,
   "metadata": {
    "pycharm": {
     "name": "#%%\n"
    }
   },
   "outputs": [],
   "source": [
    "def makeIMG(n,string):\n",
    "  Image1 = df[string].values[n]\n",
    "  Image1 = Image1.replace('[','')\n",
    "  Image1 = Image1.replace(']','')\n",
    "  Image1 = Image1.split(\",\")\n",
    "  Image1 = np.array(Image1).astype(float)\n",
    "  Image1 = Image1.reshape(32,32)\n",
    "  Image1 = Image1/255\n",
    "  return Image1"
   ]
  },
  {
   "cell_type": "code",
   "execution_count": 9,
   "outputs": [
    {
     "name": "stdout",
     "output_type": "stream",
     "text": [
      "[[1.         1.         1.         ... 1.         1.         1.        ]\n",
      " [1.         1.         1.         ... 1.         1.         1.        ]\n",
      " [1.         1.         1.         ... 1.         1.         1.        ]\n",
      " ...\n",
      " [0.78823529 0.75686275 0.97647059 ... 0.57254902 0.59607843 0.6       ]\n",
      " [0.95686275 0.81960784 0.76862745 ... 0.50196078 0.50196078 0.50588235]\n",
      " [0.66666667 0.70980392 0.53333333 ... 0.6627451  0.70196078 0.68627451]]\n"
     ]
    }
   ],
   "source": [
    "Image1 = df['R'].values[0]\n",
    "Image1 = Image1.replace('[','')\n",
    "#print(Image1)\n",
    "Image1 = Image1.replace(']','')\n",
    "Image1 = Image1.split(\",\")\n",
    "Image1 = np.array(Image1).astype(int)\n",
    "Image1 = Image1.reshape(32,32)\n",
    "Image1 = Image1/255\n",
    "print(Image1)"
   ],
   "metadata": {
    "collapsed": false,
    "pycharm": {
     "name": "#%%\n"
    }
   }
  },
  {
   "cell_type": "code",
   "execution_count": 10,
   "metadata": {
    "pycharm": {
     "name": "#%%\n"
    }
   },
   "outputs": [],
   "source": [
    "images_rgb = []\n",
    "for i in range(len(df)):\n",
    "  images_rgb.append(np.dstack((makeIMG(i,'R'),makeIMG(i,'G'),makeIMG(i,'B'))))"
   ]
  },
  {
   "cell_type": "code",
   "execution_count": 11,
   "metadata": {
    "pycharm": {
     "name": "#%%\n"
    }
   },
   "outputs": [
    {
     "data": {
      "text/plain": "'micronodules'"
     },
     "execution_count": 11,
     "metadata": {},
     "output_type": "execute_result"
    },
    {
     "data": {
      "text/plain": "<Figure size 432x288 with 1 Axes>",
      "image/png": "[encoded data removed]"
     },
     "metadata": {
      "needs_background": "light"
     },
     "output_type": "display_data"
    }
   ],
   "source": [
    "plt.imshow(images_rgb[7314])\n",
    "df['Label'][7314]"
   ]
  },
  {
   "cell_type": "code",
   "execution_count": 12,
   "metadata": {
    "pycharm": {
     "name": "#%%\n"
    }
   },
   "outputs": [],
   "source": [
    "targets = df['Label'].values"
   ]
  },
  {
   "cell_type": "code",
   "execution_count": 13,
   "metadata": {
    "pycharm": {
     "name": "#%%\n"
    }
   },
   "outputs": [
    {
     "data": {
      "text/plain": "[array(['emphysema', 'fibrosis', 'ground_glass', 'healthy', 'micronodules'],\n       dtype=object)]"
     },
     "execution_count": 13,
     "metadata": {},
     "output_type": "execute_result"
    }
   ],
   "source": [
    "enc = OneHotEncoder(handle_unknown='ignore')\n",
    "enc.fit(targets.reshape(-1,1))\n",
    "enc.categories_"
   ]
  },
  {
   "cell_type": "code",
   "execution_count": 14,
   "metadata": {
    "pycharm": {
     "name": "#%%\n"
    }
   },
   "outputs": [],
   "source": [
    "#saving my encoder\n",
    "##dump(enc,open('enc.pkl','wb'))"
   ]
  },
  {
   "cell_type": "code",
   "execution_count": 15,
   "metadata": {
    "pycharm": {
     "name": "#%%\n"
    }
   },
   "outputs": [],
   "source": [
    "y_train = enc.transform(targets.reshape(-1,1)).toarray()"
   ]
  },
  {
   "cell_type": "code",
   "execution_count": 16,
   "metadata": {
    "pycharm": {
     "name": "#%%\n"
    }
   },
   "outputs": [],
   "source": [
    "images_rgb_shuffle, y_train_shuffle = shuffle(images_rgb, y_train, random_state = 42)"
   ]
  },
  {
   "cell_type": "code",
   "execution_count": 17,
   "metadata": {
    "pycharm": {
     "name": "#%%\n"
    }
   },
   "outputs": [
    {
     "data": {
      "text/plain": "(90903, 5)"
     },
     "execution_count": 17,
     "metadata": {},
     "output_type": "execute_result"
    }
   ],
   "source": [
    "np.array(images_rgb_shuffle).shape\n",
    "y_train.shape"
   ]
  },
  {
   "cell_type": "code",
   "execution_count": 18,
   "metadata": {
    "pycharm": {
     "name": "#%%\n"
    }
   },
   "outputs": [],
   "source": [
    "from sklearn.model_selection import train_test_split\n",
    "train_x1, valid_x, train_y1, valid_y = train_test_split(np.array(images_rgb_shuffle), y_train_shuffle, test_size= .5, stratify=y_train_shuffle)"
   ]
  },
  {
   "cell_type": "code",
   "execution_count": 19,
   "metadata": {
    "pycharm": {
     "name": "#%%\n"
    }
   },
   "outputs": [
    {
     "name": "stdout",
     "output_type": "stream",
     "text": [
      "Model: \"sequential\"\n",
      "_________________________________________________________________\n",
      " Layer (type)                Output Shape              Param #   \n",
      "=================================================================\n",
      " conv2d (Conv2D)             (None, 30, 30, 32)        896       \n",
      "                                                                 \n",
      " max_pooling2d (MaxPooling2D  (None, 15, 15, 32)       0         \n",
      " )                                                               \n",
      "                                                                 \n",
      " conv2d_1 (Conv2D)           (None, 13, 13, 64)        18496     \n",
      "                                                                 \n",
      " max_pooling2d_1 (MaxPooling  (None, 6, 6, 64)         0         \n",
      " 2D)                                                             \n",
      "                                                                 \n",
      " flatten (Flatten)           (None, 2304)              0         \n",
      "                                                                 \n",
      " dense (Dense)               (None, 50)                115250    \n",
      "                                                                 \n",
      " dense_1 (Dense)             (None, 5)                 255       \n",
      "                                                                 \n",
      "=================================================================\n",
      "Total params: 134,897\n",
      "Trainable params: 134,897\n",
      "Non-trainable params: 0\n",
      "_________________________________________________________________\n"
     ]
    }
   ],
   "source": [
    "from keras.layers.core.flatten import Flatten\n",
    "from keras import layers, models\n",
    "model_int = models.Sequential([\n",
    "    layers.InputLayer(input_shape=[32,32,3]),\n",
    "    layers.Conv2D(32, (3,3), activation='relu'),\n",
    "    layers.MaxPool2D(pool_size=2),\n",
    "    layers.Conv2D(64, (3,3), activation='relu'),\n",
    "    layers.MaxPool2D(pool_size=2),\n",
    "    layers.Flatten(),\n",
    "    layers.Dense(50, activation='relu'),\n",
    "\n",
    "\n",
    "\n",
    "    layers.Dense(5, activation='softmax')\n",
    "])\n",
    "model_int.summary()"
   ]
  },
  {
   "cell_type": "markdown",
   "metadata": {},
   "source": []
  },
  {
   "cell_type": "code",
   "execution_count": 20,
   "metadata": {
    "pycharm": {
     "name": "#%%\n"
    }
   },
   "outputs": [],
   "source": [
    "from keras.callbacks import EarlyStopping, ReduceLROnPlateau\n",
    "from keras.wrappers.scikit_learn import KerasClassifier\n",
    "from sklearn.model_selection import GridSearchCV\n",
    "from keras.layers import *\n",
    "from keras import Sequential"
   ]
  },
  {
   "cell_type": "code",
   "execution_count": 21,
   "outputs": [],
   "source": [
    "early_stopping_monitor = EarlyStopping(monitor = 'val_loss',patience=10, restore_best_weights=True)\n",
    "reduce_lr = ReduceLROnPlateau(monitor='val_loss', factor = 0.2, patience=3, min_lr=0.0001)"
   ],
   "metadata": {
    "collapsed": false,
    "pycharm": {
     "name": "#%%\n"
    }
   }
  },
  {
   "cell_type": "code",
   "execution_count": 21,
   "outputs": [],
   "source": [],
   "metadata": {
    "collapsed": false,
    "pycharm": {
     "name": "#%%\n"
    }
   }
  },
  {
   "cell_type": "markdown",
   "source": [],
   "metadata": {
    "collapsed": false
   }
  },
  {
   "cell_type": "code",
   "execution_count": 22,
   "outputs": [],
   "source": [
    "# early_stopping_monitor = EarlyStopping(monitor = 'loss',patience=5, restore_best_weights=True)\n",
    "# reduce_lr = ReduceLROnPlateau(monitor='loss', factor = 0.3, patience=3, min_lr=0.000001)"
   ],
   "metadata": {
    "collapsed": false,
    "pycharm": {
     "name": "#%%\n"
    }
   }
  },
  {
   "cell_type": "code",
   "execution_count": 23,
   "outputs": [
    {
     "name": "stdout",
     "output_type": "stream",
     "text": [
      "Epoch 1/50\n",
      "1421/1421 [==============================] - 7s 3ms/step - loss: 0.6775 - val_loss: 0.5086 - lr: 0.0010\n",
      "Epoch 2/50\n",
      "1421/1421 [==============================] - 5s 3ms/step - loss: 0.4557 - val_loss: 0.3959 - lr: 0.0010\n",
      "Epoch 3/50\n",
      "1421/1421 [==============================] - 5s 3ms/step - loss: 0.3831 - val_loss: 0.3731 - lr: 0.0010\n",
      "Epoch 4/50\n",
      "1421/1421 [==============================] - 5s 3ms/step - loss: 0.3332 - val_loss: 0.3894 - lr: 0.0010\n",
      "Epoch 5/50\n",
      "1421/1421 [==============================] - 5s 3ms/step - loss: 0.2995 - val_loss: 0.3443 - lr: 0.0010\n",
      "Epoch 6/50\n",
      "1421/1421 [==============================] - 5s 3ms/step - loss: 0.2694 - val_loss: 0.3079 - lr: 0.0010\n",
      "Epoch 7/50\n",
      "1421/1421 [==============================] - 5s 3ms/step - loss: 0.2431 - val_loss: 0.3427 - lr: 0.0010\n",
      "Epoch 8/50\n",
      "1421/1421 [==============================] - 5s 3ms/step - loss: 0.2203 - val_loss: 0.2781 - lr: 0.0010\n",
      "Epoch 9/50\n",
      "1421/1421 [==============================] - 5s 3ms/step - loss: 0.1977 - val_loss: 0.3052 - lr: 0.0010\n",
      "Epoch 10/50\n",
      "1421/1421 [==============================] - 5s 3ms/step - loss: 0.1756 - val_loss: 0.3013 - lr: 0.0010\n",
      "Epoch 11/50\n",
      "1421/1421 [==============================] - 5s 3ms/step - loss: 0.1569 - val_loss: 0.3617 - lr: 0.0010\n",
      "Epoch 12/50\n",
      "1421/1421 [==============================] - 5s 3ms/step - loss: 0.0921 - val_loss: 0.2625 - lr: 2.0000e-04\n",
      "Epoch 13/50\n",
      "1421/1421 [==============================] - 5s 3ms/step - loss: 0.0837 - val_loss: 0.2615 - lr: 2.0000e-04\n",
      "Epoch 14/50\n",
      "1421/1421 [==============================] - 5s 3ms/step - loss: 0.0758 - val_loss: 0.2680 - lr: 2.0000e-04\n",
      "Epoch 15/50\n",
      "1421/1421 [==============================] - 5s 3ms/step - loss: 0.0701 - val_loss: 0.2742 - lr: 2.0000e-04\n",
      "Epoch 16/50\n",
      "1421/1421 [==============================] - 5s 3ms/step - loss: 0.0649 - val_loss: 0.2781 - lr: 2.0000e-04\n",
      "Epoch 17/50\n",
      "1421/1421 [==============================] - 5s 3ms/step - loss: 0.0535 - val_loss: 0.2847 - lr: 1.0000e-04\n",
      "Epoch 18/50\n",
      "1421/1421 [==============================] - 5s 3ms/step - loss: 0.0514 - val_loss: 0.2926 - lr: 1.0000e-04\n",
      "Epoch 19/50\n",
      "1421/1421 [==============================] - 5s 3ms/step - loss: 0.0481 - val_loss: 0.2830 - lr: 1.0000e-04\n",
      "Epoch 20/50\n",
      "1421/1421 [==============================] - 5s 3ms/step - loss: 0.0459 - val_loss: 0.2921 - lr: 1.0000e-04\n",
      "Epoch 21/50\n",
      "1421/1421 [==============================] - 5s 3ms/step - loss: 0.0433 - val_loss: 0.2876 - lr: 1.0000e-04\n",
      "Epoch 22/50\n",
      "1421/1421 [==============================] - 5s 3ms/step - loss: 0.0416 - val_loss: 0.3026 - lr: 1.0000e-04\n",
      "Epoch 23/50\n",
      "1421/1421 [==============================] - 5s 3ms/step - loss: 0.0386 - val_loss: 0.2936 - lr: 1.0000e-04\n"
     ]
    }
   ],
   "source": [
    "model_int.compile(loss='categorical_crossentropy',optimizer='Adam')\n",
    "history1 = model_int.fit(train_x1,train_y1, epochs = 50, shuffle=True, callbacks=[early_stopping_monitor,reduce_lr], validation_data=(valid_x,valid_y), validation_freq=1)"
   ],
   "metadata": {
    "collapsed": false,
    "pycharm": {
     "name": "#%%\n"
    }
   }
  },
  {
   "cell_type": "code",
   "execution_count": null,
   "outputs": [
    {
     "name": "stdout",
     "output_type": "stream",
     "text": [
      "Epoch 1/20\n",
      "1421/1421 [==============================] - 3s 2ms/step - loss: 0.0629\n",
      "Epoch 2/20\n",
      "1421/1421 [==============================] - 3s 2ms/step - loss: 0.0519\n",
      "Epoch 3/20\n",
      "1421/1421 [==============================] - 3s 2ms/step - loss: 0.0513\n",
      "Epoch 4/20\n",
      "1421/1421 [==============================] - 3s 2ms/step - loss: 0.0452\n",
      "Epoch 5/20\n",
      "1421/1421 [==============================] - 3s 2ms/step - loss: 0.0432\n",
      "Epoch 6/20\n",
      "1421/1421 [==============================] - 3s 2ms/step - loss: 0.0441\n",
      "Epoch 7/20\n",
      "1421/1421 [==============================] - 3s 2ms/step - loss: 0.0359\n",
      "Epoch 8/20\n",
      "1421/1421 [==============================] - 3s 2ms/step - loss: 0.0419\n",
      "Epoch 9/20\n",
      "1421/1421 [==============================] - 3s 2ms/step - loss: 0.0344\n",
      "Epoch 10/20\n",
      "1421/1421 [==============================] - 3s 2ms/step - loss: 0.0357\n",
      "Epoch 11/20\n",
      "1421/1421 [==============================] - 3s 2ms/step - loss: 0.0355\n",
      "Epoch 12/20\n",
      "1421/1421 [==============================] - 3s 2ms/step - loss: 0.0301\n",
      "Epoch 13/20\n",
      "1421/1421 [==============================] - 3s 2ms/step - loss: 0.0319\n",
      "Epoch 14/20\n",
      " 673/1421 [=============>................] - ETA: 1s - loss: 0.0237"
     ]
    }
   ],
   "source": [
    "model_int.compile(loss='categorical_crossentropy',optimizer='Adam')\n",
    "history1 = model_int.fit(train_x1,train_y1, epochs = 20, shuffle=True)"
   ],
   "metadata": {
    "collapsed": false,
    "pycharm": {
     "name": "#%%\n",
     "is_executing": true
    }
   }
  },
  {
   "cell_type": "code",
   "execution_count": null,
   "outputs": [],
   "source": [
    "from sklearn.metrics import classification_report, confusion_matrix, ConfusionMatrixDisplay\n",
    "preds = model_int.predict(valid_x)\n",
    "preds = enc.inverse_transform(preds)\n",
    "print(classification_report(enc.inverse_transform(valid_y),preds, digits=4))\n",
    "confusion_matrix(enc.inverse_transform(valid_y),preds)\n",
    "ConfusionMatrixDisplay.from_predictions(enc.inverse_transform(valid_y),preds, normalize='true', cmap='winter', xticks_rotation= 'vertical')\n",
    "plt.show()"
   ],
   "metadata": {
    "collapsed": false,
    "pycharm": {
     "name": "#%%\n",
     "is_executing": true
    }
   }
  },
  {
   "cell_type": "code",
   "execution_count": null,
   "metadata": {
    "pycharm": {
     "name": "#%%\n",
     "is_executing": true
    }
   },
   "outputs": [],
   "source": [
    "act = 'elu'\n",
    "pad = 'same'\n",
    "convul = (3,3)\n",
    "initial = 'he_normal'\n",
    "leaky_relu = keras.layers.LeakyReLU(alpha=0.2)\n",
    "model = models.Sequential(\n",
    "    [\n",
    "     layers.InputLayer(input_shape=[32,32,3]),\n",
    "     layers.BatchNormalization(),\n",
    "     layers.Conv2D(64, convul, padding = pad, activation=leaky_relu, kernel_initializer=initial),\n",
    "     layers.Conv2D(64, convul, padding = pad, activation=act, kernel_initializer=initial),\n",
    "     layers.AvgPool2D(pool_size=2),\n",
    "     layers.Conv2D(128, convul, padding = pad, activation=leaky_relu, kernel_initializer=initial),\n",
    "     layers.Conv2D(128, convul, padding = pad, activation=act, kernel_initializer=initial),\n",
    "     layers.AvgPool2D(pool_size=2),\n",
    "     layers.BatchNormalization(),\n",
    "     layers.Conv2D(256, convul, padding = pad, activation=leaky_relu, kernel_initializer=initial),\n",
    "     layers.Conv2D(256, convul, padding = pad, activation=act, kernel_initializer=initial),\n",
    "     layers.AvgPool2D(pool_size=2),\n",
    "     layers.BatchNormalization(),\n",
    "     layers.Flatten(),\n",
    "     layers.Dense(200, activation=leaky_relu, kernel_initializer=initial),\n",
    "     layers.Dropout(.4),\n",
    "     layers.Dense(200, activation=act, kernel_initializer=initial),\n",
    "     layers.Dropout(.4),\n",
    "     layers.BatchNormalization(),\n",
    "     layers.Dense(50, activation=leaky_relu, kernel_initializer=initial),\n",
    "     layers.Dropout(.4),\n",
    "\n",
    "\n",
    "\n",
    "     layers.Dense(5, activation='softmax')\n",
    "    ]\n",
    ")\n",
    "model.summary()\n"
   ]
  },
  {
   "cell_type": "code",
   "execution_count": null,
   "metadata": {
    "pycharm": {
     "name": "#%%\n",
     "is_executing": true
    }
   },
   "outputs": [],
   "source": [
    "# act = 'elu'\n",
    "# pad = 'same'\n",
    "kernel = 3\n",
    "pad = 'same'\n",
    "initial = 'he_normal'\n",
    "opt = 'adam'\n",
    "def create_model(act = 'elu', drop = .4, filter = 64, nodes = 50, act2 = 'relu', convul_amount = 3, maxavg= True ):\n",
    "    K.clear_session()\n",
    "    model = Sequential()\n",
    "    model.add(Input(shape=[32,32,3]))\n",
    "    model.add(BatchNormalization())\n",
    "\n",
    "    for layer_amount in range(1,convul_amount):\n",
    "        model.add(Conv2D(filters = layer_amount*filter, kernel_size= kernel, padding = pad, activation=act2, kernel_initializer=initial))\n",
    "        model.add(Conv2D(filters = layer_amount*filter, kernel_size= kernel, padding = pad, activation=act, kernel_initializer=initial))\n",
    "        if maxavg:\n",
    "            model.add(AvgPool2D(pool_size=2))\n",
    "        else:\n",
    "            model.add(MaxPool2D(pool_size=2))\n",
    "\n",
    "    model.add(BatchNormalization())\n",
    "    model.add(Flatten())\n",
    "    model.add(Dropout(drop))\n",
    "    model.add(Dense(units = 4*nodes, activation=act2, kernel_initializer=initial))\n",
    "    model.add(Dense(units = 4*nodes, activation=act, kernel_initializer=initial))\n",
    "    model.add(BatchNormalization())\n",
    "    model.add(Dropout(drop))\n",
    "    model.add(Dense(units = nodes, activation=act2, kernel_initializer=initial))\n",
    "    model.add(Dropout(drop))\n",
    "    model.add(Dense(5, activation='softmax'))\n",
    "    model.compile(loss='categorical_crossentropy',optimizer=opt, metrics = [\"accuracy\"])\n",
    "    return model"
   ]
  },
  {
   "cell_type": "code",
   "execution_count": null,
   "metadata": {
    "pycharm": {
     "name": "#%%\n",
     "is_executing": true
    }
   },
   "outputs": [],
   "source": [
    "leaky_relu = keras.layers.LeakyReLU(alpha=0.2)\n",
    "params = {\n",
    "    'act':['elu',leaky_relu],\n",
    "    'drop':[.3,.4],\n",
    "    'filter':[32,64],\n",
    "    'nodes':[25,50],\n",
    "    'act2':['elu','relu'],\n",
    "    'convul_amount':[3,4],\n",
    "    'maxavg':[True,False],\n",
    "    'batch_size':[8,16],\n",
    "}"
   ]
  },
  {
   "cell_type": "code",
   "execution_count": null,
   "metadata": {
    "pycharm": {
     "name": "#%%\n",
     "is_executing": true
    }
   },
   "outputs": [
    {
     "name": "stderr",
     "output_type": "stream",
     "text": [
      "C:\\Users\\Tyler\\AppData\\Local\\Temp\\ipykernel_2840\\3636745365.py:2: DeprecationWarning: KerasClassifier is deprecated, use Sci-Keras (https://github.com/adriangb/scikeras) instead. See https://www.adriangb.com/scikeras/stable/migration.html for help migrating.\n",
      "  model = KerasClassifier(build_fn = create_model,epochs = 7, verbose = 1)\n"
     ]
    },
    {
     "name": "stdout",
     "output_type": "stream",
     "text": [
      "Fitting 3 folds for each of 30 candidates, totalling 90 fits\n",
      "[CV 1/3; 1/30] START act=elu, act2=elu, batch_size=16, convul_amount=3, drop=0.3, filter=32, maxavg=False, nodes=50\n",
      "Epoch 1/7\n",
      "1899/1899 [==============================] - 12s 6ms/step - loss: 0.6821 - accuracy: 0.7668\n",
      "Epoch 2/7\n",
      "1899/1899 [==============================] - 10s 5ms/step - loss: 0.4344 - accuracy: 0.8525\n",
      "Epoch 3/7\n",
      "1899/1899 [==============================] - 9s 5ms/step - loss: 0.3558 - accuracy: 0.8782\n",
      "Epoch 4/7\n",
      "1899/1899 [==============================] - 10s 5ms/step - loss: 0.3035 - accuracy: 0.8965\n",
      "Epoch 5/7\n",
      "1899/1899 [==============================] - 10s 5ms/step - loss: 0.2594 - accuracy: 0.9081\n",
      "Epoch 6/7\n",
      "1899/1899 [==============================] - 11s 6ms/step - loss: 0.2135 - accuracy: 0.9252\n",
      "Epoch 7/7\n",
      "1899/1899 [==============================] - 10s 6ms/step - loss: 0.1831 - accuracy: 0.9356\n",
      "950/950 [==============================] - 2s 2ms/step - loss: 0.2533 - accuracy: 0.9132\n",
      "[CV 1/3; 1/30] END act=elu, act2=elu, batch_size=16, convul_amount=3, drop=0.3, filter=32, maxavg=False, nodes=50;, score=0.913 total time= 1.2min\n",
      "[CV 2/3; 1/30] START act=elu, act2=elu, batch_size=16, convul_amount=3, drop=0.3, filter=32, maxavg=False, nodes=50\n",
      "Epoch 1/7\n",
      "1899/1899 [==============================] - 10s 5ms/step - loss: 0.6607 - accuracy: 0.7735\n",
      "Epoch 2/7\n",
      "1899/1899 [==============================] - 10s 5ms/step - loss: 0.4334 - accuracy: 0.8547\n",
      "Epoch 3/7\n",
      "1899/1899 [==============================] - 10s 5ms/step - loss: 0.3565 - accuracy: 0.8729\n",
      "Epoch 4/7\n",
      "1899/1899 [==============================] - 10s 5ms/step - loss: 0.2985 - accuracy: 0.8964\n",
      "Epoch 5/7\n",
      "1899/1899 [==============================] - 10s 5ms/step - loss: 0.2533 - accuracy: 0.9107\n",
      "Epoch 6/7\n",
      "1899/1899 [==============================] - 10s 5ms/step - loss: 0.2091 - accuracy: 0.9269\n",
      "Epoch 7/7\n",
      "1899/1899 [==============================] - 10s 5ms/step - loss: 0.1897 - accuracy: 0.9339\n",
      "950/950 [==============================] - 2s 2ms/step - loss: 0.2730 - accuracy: 0.9093\n",
      "[CV 2/3; 1/30] END act=elu, act2=elu, batch_size=16, convul_amount=3, drop=0.3, filter=32, maxavg=False, nodes=50;, score=0.909 total time= 1.2min\n",
      "[CV 3/3; 1/30] START act=elu, act2=elu, batch_size=16, convul_amount=3, drop=0.3, filter=32, maxavg=False, nodes=50\n",
      "Epoch 1/7\n",
      "1899/1899 [==============================] - 10s 5ms/step - loss: 0.6715 - accuracy: 0.7703\n",
      "Epoch 2/7\n",
      "1899/1899 [==============================] - 10s 5ms/step - loss: 0.4286 - accuracy: 0.8530\n",
      "Epoch 3/7\n",
      "1899/1899 [==============================] - 11s 6ms/step - loss: 0.3490 - accuracy: 0.8806\n",
      "Epoch 4/7\n",
      "1899/1899 [==============================] - 11s 6ms/step - loss: 0.2914 - accuracy: 0.9009\n",
      "Epoch 5/7\n",
      "1899/1899 [==============================] - 10s 5ms/step - loss: 0.2509 - accuracy: 0.9135\n",
      "Epoch 6/7\n",
      "1899/1899 [==============================] - 9s 5ms/step - loss: 0.2096 - accuracy: 0.9268\n",
      "Epoch 7/7\n",
      "1899/1899 [==============================] - 9s 5ms/step - loss: 0.1779 - accuracy: 0.9393\n",
      "950/950 [==============================] - 2s 2ms/step - loss: 0.2396 - accuracy: 0.9189\n",
      "[CV 3/3; 1/30] END act=elu, act2=elu, batch_size=16, convul_amount=3, drop=0.3, filter=32, maxavg=False, nodes=50;, score=0.919 total time= 1.2min\n",
      "[CV 1/3; 2/30] START act=relu, act2=relu, batch_size=16, convul_amount=3, drop=0.3, filter=64, maxavg=True, nodes=50\n",
      "Epoch 1/7\n",
      "1899/1899 [==============================] - 12s 6ms/step - loss: 0.7338 - accuracy: 0.7334\n",
      "Epoch 2/7\n",
      "1899/1899 [==============================] - 11s 6ms/step - loss: 0.4629 - accuracy: 0.8426\n",
      "Epoch 3/7\n",
      "1899/1899 [==============================] - 10s 5ms/step - loss: 0.3867 - accuracy: 0.8696\n",
      "Epoch 4/7\n",
      "1899/1899 [==============================] - 10s 5ms/step - loss: 0.3429 - accuracy: 0.8840\n",
      "Epoch 5/7\n",
      "1899/1899 [==============================] - 10s 5ms/step - loss: 0.2989 - accuracy: 0.8966\n",
      "Epoch 6/7\n",
      "1899/1899 [==============================] - 10s 5ms/step - loss: 0.2600 - accuracy: 0.9099\n",
      "Epoch 7/7\n",
      "1899/1899 [==============================] - 10s 5ms/step - loss: 0.2281 - accuracy: 0.9200\n",
      "950/950 [==============================] - 3s 3ms/step - loss: 0.2521 - accuracy: 0.9253\n",
      "[CV 1/3; 2/30] END act=relu, act2=relu, batch_size=16, convul_amount=3, drop=0.3, filter=64, maxavg=True, nodes=50;, score=0.925 total time= 1.3min\n",
      "[CV 2/3; 2/30] START act=relu, act2=relu, batch_size=16, convul_amount=3, drop=0.3, filter=64, maxavg=True, nodes=50\n",
      "Epoch 1/7\n",
      "1899/1899 [==============================] - 11s 5ms/step - loss: 0.6731 - accuracy: 0.7626\n",
      "Epoch 2/7\n",
      "1899/1899 [==============================] - 11s 6ms/step - loss: 0.4334 - accuracy: 0.8532\n",
      "Epoch 3/7\n",
      "1899/1899 [==============================] - 10s 5ms/step - loss: 0.3868 - accuracy: 0.8697\n",
      "Epoch 4/7\n",
      "1899/1899 [==============================] - 10s 5ms/step - loss: 0.3552 - accuracy: 0.8769\n",
      "Epoch 5/7\n",
      "1899/1899 [==============================] - 10s 5ms/step - loss: 0.2939 - accuracy: 0.9002\n",
      "Epoch 6/7\n",
      "1899/1899 [==============================] - 10s 5ms/step - loss: 0.3163 - accuracy: 0.8904\n",
      "Epoch 7/7\n",
      "1899/1899 [==============================] - 11s 6ms/step - loss: 0.2402 - accuracy: 0.9158\n",
      "950/950 [==============================] - 3s 3ms/step - loss: 0.1952 - accuracy: 0.9311\n",
      "[CV 2/3; 2/30] END act=relu, act2=relu, batch_size=16, convul_amount=3, drop=0.3, filter=64, maxavg=True, nodes=50;, score=0.931 total time= 1.3min\n",
      "[CV 3/3; 2/30] START act=relu, act2=relu, batch_size=16, convul_amount=3, drop=0.3, filter=64, maxavg=True, nodes=50\n",
      "Epoch 1/7\n",
      "1899/1899 [==============================] - 11s 5ms/step - loss: 0.7609 - accuracy: 0.7241\n",
      "Epoch 2/7\n",
      "1899/1899 [==============================] - 11s 6ms/step - loss: 0.4651 - accuracy: 0.8397\n",
      "Epoch 3/7\n",
      "1899/1899 [==============================] - 9s 5ms/step - loss: 0.3944 - accuracy: 0.8673\n",
      "Epoch 4/7\n",
      "1899/1899 [==============================] - 10s 5ms/step - loss: 0.3309 - accuracy: 0.8879\n",
      "Epoch 5/7\n",
      "1899/1899 [==============================] - 10s 5ms/step - loss: 0.2846 - accuracy: 0.9045\n",
      "Epoch 6/7\n",
      "1899/1899 [==============================] - 11s 6ms/step - loss: 0.2432 - accuracy: 0.9155\n",
      "Epoch 7/7\n",
      "1899/1899 [==============================] - 10s 5ms/step - loss: 0.2063 - accuracy: 0.9291\n",
      "950/950 [==============================] - 3s 2ms/step - loss: 0.2542 - accuracy: 0.9154\n",
      "[CV 3/3; 2/30] END act=relu, act2=relu, batch_size=16, convul_amount=3, drop=0.3, filter=64, maxavg=True, nodes=50;, score=0.915 total time= 1.2min\n",
      "[CV 1/3; 3/30] START act=elu, act2=elu, batch_size=8, convul_amount=3, drop=0.4, filter=64, maxavg=False, nodes=50\n",
      "Epoch 1/7\n",
      "3797/3797 [==============================] - 21s 5ms/step - loss: 0.8078 - accuracy: 0.7245\n",
      "Epoch 2/7\n",
      "3797/3797 [==============================] - 20s 5ms/step - loss: 0.5066 - accuracy: 0.8305\n",
      "Epoch 3/7\n",
      "3797/3797 [==============================] - 20s 5ms/step - loss: 0.4069 - accuracy: 0.8643\n",
      "Epoch 4/7\n",
      "3797/3797 [==============================] - 20s 5ms/step - loss: 0.3485 - accuracy: 0.8820\n",
      "Epoch 5/7\n",
      "3797/3797 [==============================] - 20s 5ms/step - loss: 0.2993 - accuracy: 0.8991\n",
      "Epoch 6/7\n",
      "3797/3797 [==============================] - 20s 5ms/step - loss: 0.2576 - accuracy: 0.9135\n",
      "Epoch 7/7\n",
      "3797/3797 [==============================] - 20s 5ms/step - loss: 0.2243 - accuracy: 0.9264\n",
      "1899/1899 [==============================] - 4s 2ms/step - loss: 0.2128 - accuracy: 0.9260\n",
      "[CV 1/3; 3/30] END act=elu, act2=elu, batch_size=8, convul_amount=3, drop=0.4, filter=64, maxavg=False, nodes=50;, score=0.926 total time= 2.4min\n",
      "[CV 2/3; 3/30] START act=elu, act2=elu, batch_size=8, convul_amount=3, drop=0.4, filter=64, maxavg=False, nodes=50\n",
      "Epoch 1/7\n",
      "3797/3797 [==============================] - 21s 5ms/step - loss: 0.8069 - accuracy: 0.7242\n",
      "Epoch 2/7\n",
      "3797/3797 [==============================] - 20s 5ms/step - loss: 0.4991 - accuracy: 0.8309\n",
      "Epoch 3/7\n",
      "3797/3797 [==============================] - 20s 5ms/step - loss: 0.4109 - accuracy: 0.8608\n",
      "Epoch 4/7\n",
      "3797/3797 [==============================] - 20s 5ms/step - loss: 0.3425 - accuracy: 0.8847\n",
      "Epoch 5/7\n",
      "3797/3797 [==============================] - 20s 5ms/step - loss: 0.2949 - accuracy: 0.9019\n",
      "Epoch 6/7\n",
      "3797/3797 [==============================] - 19s 5ms/step - loss: 0.2547 - accuracy: 0.9145\n",
      "Epoch 7/7\n",
      "3797/3797 [==============================] - 20s 5ms/step - loss: 0.2229 - accuracy: 0.9258\n",
      "1899/1899 [==============================] - 5s 2ms/step - loss: 0.2906 - accuracy: 0.9063\n",
      "[CV 2/3; 3/30] END act=elu, act2=elu, batch_size=8, convul_amount=3, drop=0.4, filter=64, maxavg=False, nodes=50;, score=0.906 total time= 2.4min\n",
      "[CV 3/3; 3/30] START act=elu, act2=elu, batch_size=8, convul_amount=3, drop=0.4, filter=64, maxavg=False, nodes=50\n",
      "Epoch 1/7\n",
      "3797/3797 [==============================] - 21s 5ms/step - loss: 0.7863 - accuracy: 0.7332\n",
      "Epoch 2/7\n",
      "3797/3797 [==============================] - 20s 5ms/step - loss: 0.4890 - accuracy: 0.8338\n",
      "Epoch 3/7\n",
      "3797/3797 [==============================] - 20s 5ms/step - loss: 0.4164 - accuracy: 0.8648\n",
      "Epoch 4/7\n",
      "3797/3797 [==============================] - 19s 5ms/step - loss: 0.3562 - accuracy: 0.8818\n",
      "Epoch 5/7\n",
      "3797/3797 [==============================] - 20s 5ms/step - loss: 0.3049 - accuracy: 0.8967\n",
      "Epoch 6/7\n",
      "3797/3797 [==============================] - 19s 5ms/step - loss: 0.2668 - accuracy: 0.9116\n",
      "Epoch 7/7\n",
      "3797/3797 [==============================] - 20s 5ms/step - loss: 0.2336 - accuracy: 0.9232\n",
      "1899/1899 [==============================] - 4s 2ms/step - loss: 0.1574 - accuracy: 0.9454\n",
      "[CV 3/3; 3/30] END act=elu, act2=elu, batch_size=8, convul_amount=3, drop=0.4, filter=64, maxavg=False, nodes=50;, score=0.945 total time= 2.4min\n",
      "[CV 1/3; 4/30] START act=<keras.layers.advanced_activations.LeakyReLU object at 0x00000181E98FE0A0>, act2=elu, batch_size=16, convul_amount=3, drop=0.4, filter=64, maxavg=False, nodes=50\n",
      "Epoch 1/7\n",
      "1899/1899 [==============================] - 11s 5ms/step - loss: 0.7032 - accuracy: 0.7690\n",
      "Epoch 2/7\n",
      "1899/1899 [==============================] - 10s 5ms/step - loss: 0.4144 - accuracy: 0.8620\n",
      "Epoch 3/7\n",
      "1899/1899 [==============================] - 9s 5ms/step - loss: 0.3448 - accuracy: 0.8825\n",
      "Epoch 4/7\n",
      "1899/1899 [==============================] - 10s 5ms/step - loss: 0.2829 - accuracy: 0.9009\n",
      "Epoch 5/7\n",
      "1899/1899 [==============================] - 10s 5ms/step - loss: 0.2367 - accuracy: 0.9179\n",
      "Epoch 6/7\n",
      "1899/1899 [==============================] - 10s 5ms/step - loss: 0.1962 - accuracy: 0.9323\n",
      "Epoch 7/7\n",
      "1899/1899 [==============================] - 10s 5ms/step - loss: 0.1693 - accuracy: 0.9418\n",
      "950/950 [==============================] - 2s 2ms/step - loss: 0.1630 - accuracy: 0.9416\n",
      "[CV 1/3; 4/30] END act=<keras.layers.advanced_activations.LeakyReLU object at 0x00000181E98FE0A0>, act2=elu, batch_size=16, convul_amount=3, drop=0.4, filter=64, maxavg=False, nodes=50;, score=0.942 total time= 1.2min\n",
      "[CV 2/3; 4/30] START act=<keras.layers.advanced_activations.LeakyReLU object at 0x00000181E98FE0A0>, act2=elu, batch_size=16, convul_amount=3, drop=0.4, filter=64, maxavg=False, nodes=50\n",
      "Epoch 1/7\n",
      "1899/1899 [==============================] - 10s 5ms/step - loss: 0.6869 - accuracy: 0.7696\n",
      "Epoch 2/7\n",
      "1899/1899 [==============================] - 10s 5ms/step - loss: 0.4000 - accuracy: 0.8650\n",
      "Epoch 3/7\n",
      "1899/1899 [==============================] - 10s 5ms/step - loss: 0.3377 - accuracy: 0.8844\n",
      "Epoch 4/7\n",
      "1899/1899 [==============================] - 10s 5ms/step - loss: 0.2800 - accuracy: 0.9030\n",
      "Epoch 5/7\n",
      "1899/1899 [==============================] - 10s 5ms/step - loss: 0.2361 - accuracy: 0.9168\n",
      "Epoch 6/7\n",
      "1899/1899 [==============================] - 10s 5ms/step - loss: 0.1973 - accuracy: 0.9336\n",
      "Epoch 7/7\n",
      "1899/1899 [==============================] - 10s 5ms/step - loss: 0.1695 - accuracy: 0.9428\n",
      "950/950 [==============================] - 2s 2ms/step - loss: 0.1849 - accuracy: 0.9342\n",
      "[CV 2/3; 4/30] END act=<keras.layers.advanced_activations.LeakyReLU object at 0x00000181E98FE0A0>, act2=elu, batch_size=16, convul_amount=3, drop=0.4, filter=64, maxavg=False, nodes=50;, score=0.934 total time= 1.2min\n",
      "[CV 3/3; 4/30] START act=<keras.layers.advanced_activations.LeakyReLU object at 0x00000181E98FE0A0>, act2=elu, batch_size=16, convul_amount=3, drop=0.4, filter=64, maxavg=False, nodes=50\n",
      "Epoch 1/7\n",
      "1899/1899 [==============================] - 10s 5ms/step - loss: 0.6899 - accuracy: 0.7702\n",
      "Epoch 2/7\n",
      "1899/1899 [==============================] - 10s 5ms/step - loss: 0.4098 - accuracy: 0.8634\n",
      "Epoch 3/7\n",
      "1899/1899 [==============================] - 10s 5ms/step - loss: 0.3357 - accuracy: 0.8851\n",
      "Epoch 4/7\n",
      "1899/1899 [==============================] - 10s 5ms/step - loss: 0.2843 - accuracy: 0.9023\n",
      "Epoch 5/7\n",
      "1899/1899 [==============================] - 9s 5ms/step - loss: 0.2374 - accuracy: 0.9186\n",
      "Epoch 6/7\n",
      "1899/1899 [==============================] - 10s 5ms/step - loss: 0.1980 - accuracy: 0.9310\n",
      "Epoch 7/7\n",
      "1899/1899 [==============================] - 10s 5ms/step - loss: 0.1587 - accuracy: 0.9459\n",
      "950/950 [==============================] - 2s 2ms/step - loss: 0.3548 - accuracy: 0.8884\n",
      "[CV 3/3; 4/30] END act=<keras.layers.advanced_activations.LeakyReLU object at 0x00000181E98FE0A0>, act2=elu, batch_size=16, convul_amount=3, drop=0.4, filter=64, maxavg=False, nodes=50;, score=0.888 total time= 1.2min\n",
      "[CV 1/3; 5/30] START act=relu, act2=relu, batch_size=8, convul_amount=3, drop=0.4, filter=32, maxavg=False, nodes=50\n",
      "Epoch 1/7\n",
      "3797/3797 [==============================] - 20s 5ms/step - loss: 0.8318 - accuracy: 0.7035\n",
      "Epoch 2/7\n",
      "3797/3797 [==============================] - 19s 5ms/step - loss: 0.5615 - accuracy: 0.8087\n",
      "Epoch 3/7\n",
      "3797/3797 [==============================] - 18s 5ms/step - loss: 0.4697 - accuracy: 0.8449\n",
      "Epoch 4/7\n",
      "3797/3797 [==============================] - 19s 5ms/step - loss: 0.4486 - accuracy: 0.8514\n",
      "Epoch 5/7\n",
      "3797/3797 [==============================] - 18s 5ms/step - loss: 0.3830 - accuracy: 0.8731\n",
      "Epoch 6/7\n",
      "3797/3797 [==============================] - 18s 5ms/step - loss: 0.3436 - accuracy: 0.8878\n",
      "Epoch 7/7\n",
      "3797/3797 [==============================] - 19s 5ms/step - loss: 0.3282 - accuracy: 0.8910\n",
      "1899/1899 [==============================] - 4s 2ms/step - loss: 0.6066 - accuracy: 0.8122\n",
      "[CV 1/3; 5/30] END act=relu, act2=relu, batch_size=8, convul_amount=3, drop=0.4, filter=32, maxavg=False, nodes=50;, score=0.812 total time= 2.2min\n",
      "[CV 2/3; 5/30] START act=relu, act2=relu, batch_size=8, convul_amount=3, drop=0.4, filter=32, maxavg=False, nodes=50\n",
      "Epoch 1/7\n",
      "3797/3797 [==============================] - 20s 5ms/step - loss: 0.8624 - accuracy: 0.6940\n",
      "Epoch 2/7\n",
      "3797/3797 [==============================] - 18s 5ms/step - loss: 0.5879 - accuracy: 0.7987\n",
      "Epoch 3/7\n",
      "3797/3797 [==============================] - 19s 5ms/step - loss: 0.4953 - accuracy: 0.8358\n",
      "Epoch 4/7\n",
      "3797/3797 [==============================] - 19s 5ms/step - loss: 0.4285 - accuracy: 0.8585\n",
      "Epoch 5/7\n",
      "3797/3797 [==============================] - 19s 5ms/step - loss: 0.3889 - accuracy: 0.8721\n",
      "Epoch 6/7\n",
      "3797/3797 [==============================] - 19s 5ms/step - loss: 0.3655 - accuracy: 0.8773\n",
      "Epoch 7/7\n",
      "3797/3797 [==============================] - 19s 5ms/step - loss: 0.3183 - accuracy: 0.8953\n",
      "1899/1899 [==============================] - 4s 2ms/step - loss: 0.2485 - accuracy: 0.9119\n",
      "[CV 2/3; 5/30] END act=relu, act2=relu, batch_size=8, convul_amount=3, drop=0.4, filter=32, maxavg=False, nodes=50;, score=0.912 total time= 2.3min\n",
      "[CV 3/3; 5/30] START act=relu, act2=relu, batch_size=8, convul_amount=3, drop=0.4, filter=32, maxavg=False, nodes=50\n",
      "Epoch 1/7\n",
      "3797/3797 [==============================] - 19s 5ms/step - loss: 0.8227 - accuracy: 0.7066\n",
      "Epoch 2/7\n",
      "3797/3797 [==============================] - 19s 5ms/step - loss: 0.5492 - accuracy: 0.8170\n",
      "Epoch 3/7\n",
      "3797/3797 [==============================] - 19s 5ms/step - loss: 0.4664 - accuracy: 0.8466\n",
      "Epoch 4/7\n",
      "3797/3797 [==============================] - 18s 5ms/step - loss: 0.4139 - accuracy: 0.8651\n",
      "Epoch 5/7\n",
      "3797/3797 [==============================] - 19s 5ms/step - loss: 0.3675 - accuracy: 0.8787\n",
      "Epoch 6/7\n",
      "3797/3797 [==============================] - 19s 5ms/step - loss: 0.3343 - accuracy: 0.8896\n",
      "Epoch 7/7\n",
      "3797/3797 [==============================] - 18s 5ms/step - loss: 0.3259 - accuracy: 0.8933\n",
      "1899/1899 [==============================] - 4s 2ms/step - loss: 0.2563 - accuracy: 0.9114\n",
      "[CV 3/3; 5/30] END act=relu, act2=relu, batch_size=8, convul_amount=3, drop=0.4, filter=32, maxavg=False, nodes=50;, score=0.911 total time= 2.2min\n",
      "[CV 1/3; 6/30] START act=relu, act2=relu, batch_size=16, convul_amount=3, drop=0.3, filter=32, maxavg=True, nodes=25\n",
      "Epoch 1/7\n",
      "1899/1899 [==============================] - 11s 5ms/step - loss: 0.7616 - accuracy: 0.7248\n",
      "Epoch 2/7\n",
      "1899/1899 [==============================] - 11s 6ms/step - loss: 0.5001 - accuracy: 0.8342\n",
      "Epoch 3/7\n",
      "1899/1899 [==============================] - 10s 5ms/step - loss: 0.4199 - accuracy: 0.8614\n",
      "Epoch 4/7\n",
      "1899/1899 [==============================] - 9s 5ms/step - loss: 0.3739 - accuracy: 0.8782\n",
      "Epoch 5/7\n",
      "1899/1899 [==============================] - 9s 5ms/step - loss: 0.3392 - accuracy: 0.8883\n",
      "Epoch 6/7\n",
      "1899/1899 [==============================] - 10s 5ms/step - loss: 0.3021 - accuracy: 0.9016\n",
      "Epoch 7/7\n",
      "1899/1899 [==============================] - 11s 6ms/step - loss: 0.2740 - accuracy: 0.9073\n",
      "950/950 [==============================] - 3s 3ms/step - loss: 0.2235 - accuracy: 0.9190\n",
      "[CV 1/3; 6/30] END act=relu, act2=relu, batch_size=16, convul_amount=3, drop=0.3, filter=32, maxavg=True, nodes=25;, score=0.919 total time= 1.2min\n",
      "[CV 2/3; 6/30] START act=relu, act2=relu, batch_size=16, convul_amount=3, drop=0.3, filter=32, maxavg=True, nodes=25\n",
      "Epoch 1/7\n"
     ]
    }
   ],
   "source": [
    "from sklearn.model_selection import RandomizedSearchCV\n",
    "model = KerasClassifier(build_fn = create_model,epochs = 7, verbose = 1)\n",
    "grid = RandomizedSearchCV(estimator= model,param_distributions=params, n_iter=30, cv=3, verbose=10)\n",
    "grid_results = grid.fit(train_x1,train_y1)"
   ]
  },
  {
   "cell_type": "code",
   "execution_count": 75,
   "metadata": {
    "pycharm": {
     "name": "#%%\n"
    }
   },
   "outputs": [
    {
     "name": "stdout",
     "output_type": "stream",
     "text": [
      "Best: 0.907937 using {'nodes': 50, 'maxavg': True, 'filter': 64, 'drop': 0.4, 'convul_amount': 3, 'batch_size': 16, 'act2': 'elu', 'act': 'elu'}\n"
     ]
    }
   ],
   "source": [
    "print(\"Best: %f using %s\" % (grid_results.best_score_, grid_results.best_params_))"
   ]
  },
  {
   "cell_type": "code",
   "execution_count": 76,
   "outputs": [
    {
     "data": {
      "text/plain": "    nodes  maxavg  filter  drop  convul_amount  batch_size  act2  \\\n0      50    True      64   0.4              3          16   elu   \n12     25   False      32   0.4              4           8  relu   \n15     50   False      64   0.3              3          16  relu   \n14     50    True      32   0.4              3           8   elu   \n13     50   False      32   0.4              3           8   elu   \n4      25   False      64   0.4              3          16  relu   \n1      25   False      32   0.3              4           8  relu   \n11     25   False      32   0.4              4          16  relu   \n18     50    True      32   0.3              4           8   elu   \n7      25    True      32   0.3              3           8  relu   \n5      50   False      32   0.3              3           8   elu   \n8      25    True      64   0.3              3          16   elu   \n3      50    True      32   0.3              3          16  relu   \n6      50   False      64   0.3              3           8  relu   \n9      50    True      32   0.4              3          16  relu   \n17     50    True      32   0.4              3          16   elu   \n16     25   False      64   0.4              4           8  relu   \n2      25   False      32   0.3              4          16  relu   \n19     50   False      32   0.3              4          16  relu   \n10     25    True      32   0.4              4          16  relu   \n\n                                                  act  mean_test_score  \n0                                                 elu         0.907937  \n12                                                elu         0.903416  \n15  <keras.layers.advanced_activations.LeakyReLU o...         0.899355  \n14                                                elu         0.894986  \n13  <keras.layers.advanced_activations.LeakyReLU o...         0.894262  \n4   <keras.layers.advanced_activations.LeakyReLU o...         0.892989  \n1                                                relu         0.889872  \n11  <keras.layers.advanced_activations.LeakyReLU o...         0.888686  \n18                                               relu         0.888050  \n7                                                 elu         0.884933  \n5   <keras.layers.advanced_activations.LeakyReLU o...         0.884691  \n8   <keras.layers.advanced_activations.LeakyReLU o...         0.884033  \n3                                                 elu         0.876987  \n6                                                relu         0.873804  \n9                                                 elu         0.873189  \n17                                               relu         0.872509  \n16                                                elu         0.856748  \n2                                                 elu         0.851370  \n19                                                elu         0.848801  \n10  <keras.layers.advanced_activations.LeakyReLU o...         0.844762  ",
      "text/html": "<div>\n<style scoped>\n    .dataframe tbody tr th:only-of-type {\n        vertical-align: middle;\n    }\n\n    .dataframe tbody tr th {\n        vertical-align: top;\n    }\n\n    .dataframe thead th {\n        text-align: right;\n    }\n</style>\n<table border=\"1\" class=\"dataframe\">\n  <thead>\n    <tr style=\"text-align: right;\">\n      <th></th>\n      <th>nodes</th>\n      <th>maxavg</th>\n      <th>filter</th>\n      <th>drop</th>\n      <th>convul_amount</th>\n      <th>batch_size</th>\n      <th>act2</th>\n      <th>act</th>\n      <th>mean_test_score</th>\n    </tr>\n  </thead>\n  <tbody>\n    <tr>\n      <th>0</th>\n      <td>50</td>\n      <td>True</td>\n      <td>64</td>\n      <td>0.4</td>\n      <td>3</td>\n      <td>16</td>\n      <td>elu</td>\n      <td>elu</td>\n      <td>0.907937</td>\n    </tr>\n    <tr>\n      <th>12</th>\n      <td>25</td>\n      <td>False</td>\n      <td>32</td>\n      <td>0.4</td>\n      <td>4</td>\n      <td>8</td>\n      <td>relu</td>\n      <td>elu</td>\n      <td>0.903416</td>\n    </tr>\n    <tr>\n      <th>15</th>\n      <td>50</td>\n      <td>False</td>\n      <td>64</td>\n      <td>0.3</td>\n      <td>3</td>\n      <td>16</td>\n      <td>relu</td>\n      <td>&lt;keras.layers.advanced_activations.LeakyReLU o...</td>\n      <td>0.899355</td>\n    </tr>\n    <tr>\n      <th>14</th>\n      <td>50</td>\n      <td>True</td>\n      <td>32</td>\n      <td>0.4</td>\n      <td>3</td>\n      <td>8</td>\n      <td>elu</td>\n      <td>elu</td>\n      <td>0.894986</td>\n    </tr>\n    <tr>\n      <th>13</th>\n      <td>50</td>\n      <td>False</td>\n      <td>32</td>\n      <td>0.4</td>\n      <td>3</td>\n      <td>8</td>\n      <td>elu</td>\n      <td>&lt;keras.layers.advanced_activations.LeakyReLU o...</td>\n      <td>0.894262</td>\n    </tr>\n    <tr>\n      <th>4</th>\n      <td>25</td>\n      <td>False</td>\n      <td>64</td>\n      <td>0.4</td>\n      <td>3</td>\n      <td>16</td>\n      <td>relu</td>\n      <td>&lt;keras.layers.advanced_activations.LeakyReLU o...</td>\n      <td>0.892989</td>\n    </tr>\n    <tr>\n      <th>1</th>\n      <td>25</td>\n      <td>False</td>\n      <td>32</td>\n      <td>0.3</td>\n      <td>4</td>\n      <td>8</td>\n      <td>relu</td>\n      <td>relu</td>\n      <td>0.889872</td>\n    </tr>\n    <tr>\n      <th>11</th>\n      <td>25</td>\n      <td>False</td>\n      <td>32</td>\n      <td>0.4</td>\n      <td>4</td>\n      <td>16</td>\n      <td>relu</td>\n      <td>&lt;keras.layers.advanced_activations.LeakyReLU o...</td>\n      <td>0.888686</td>\n    </tr>\n    <tr>\n      <th>18</th>\n      <td>50</td>\n      <td>True</td>\n      <td>32</td>\n      <td>0.3</td>\n      <td>4</td>\n      <td>8</td>\n      <td>elu</td>\n      <td>relu</td>\n      <td>0.888050</td>\n    </tr>\n    <tr>\n      <th>7</th>\n      <td>25</td>\n      <td>True</td>\n      <td>32</td>\n      <td>0.3</td>\n      <td>3</td>\n      <td>8</td>\n      <td>relu</td>\n      <td>elu</td>\n      <td>0.884933</td>\n    </tr>\n    <tr>\n      <th>5</th>\n      <td>50</td>\n      <td>False</td>\n      <td>32</td>\n      <td>0.3</td>\n      <td>3</td>\n      <td>8</td>\n      <td>elu</td>\n      <td>&lt;keras.layers.advanced_activations.LeakyReLU o...</td>\n      <td>0.884691</td>\n    </tr>\n    <tr>\n      <th>8</th>\n      <td>25</td>\n      <td>True</td>\n      <td>64</td>\n      <td>0.3</td>\n      <td>3</td>\n      <td>16</td>\n      <td>elu</td>\n      <td>&lt;keras.layers.advanced_activations.LeakyReLU o...</td>\n      <td>0.884033</td>\n    </tr>\n    <tr>\n      <th>3</th>\n      <td>50</td>\n      <td>True</td>\n      <td>32</td>\n      <td>0.3</td>\n      <td>3</td>\n      <td>16</td>\n      <td>relu</td>\n      <td>elu</td>\n      <td>0.876987</td>\n    </tr>\n    <tr>\n      <th>6</th>\n      <td>50</td>\n      <td>False</td>\n      <td>64</td>\n      <td>0.3</td>\n      <td>3</td>\n      <td>8</td>\n      <td>relu</td>\n      <td>relu</td>\n      <td>0.873804</td>\n    </tr>\n    <tr>\n      <th>9</th>\n      <td>50</td>\n      <td>True</td>\n      <td>32</td>\n      <td>0.4</td>\n      <td>3</td>\n      <td>16</td>\n      <td>relu</td>\n      <td>elu</td>\n      <td>0.873189</td>\n    </tr>\n    <tr>\n      <th>17</th>\n      <td>50</td>\n      <td>True</td>\n      <td>32</td>\n      <td>0.4</td>\n      <td>3</td>\n      <td>16</td>\n      <td>elu</td>\n      <td>relu</td>\n      <td>0.872509</td>\n    </tr>\n    <tr>\n      <th>16</th>\n      <td>25</td>\n      <td>False</td>\n      <td>64</td>\n      <td>0.4</td>\n      <td>4</td>\n      <td>8</td>\n      <td>relu</td>\n      <td>elu</td>\n      <td>0.856748</td>\n    </tr>\n    <tr>\n      <th>2</th>\n      <td>25</td>\n      <td>False</td>\n      <td>32</td>\n      <td>0.3</td>\n      <td>4</td>\n      <td>16</td>\n      <td>relu</td>\n      <td>elu</td>\n      <td>0.851370</td>\n    </tr>\n    <tr>\n      <th>19</th>\n      <td>50</td>\n      <td>False</td>\n      <td>32</td>\n      <td>0.3</td>\n      <td>4</td>\n      <td>16</td>\n      <td>relu</td>\n      <td>elu</td>\n      <td>0.848801</td>\n    </tr>\n    <tr>\n      <th>10</th>\n      <td>25</td>\n      <td>True</td>\n      <td>32</td>\n      <td>0.4</td>\n      <td>4</td>\n      <td>16</td>\n      <td>relu</td>\n      <td>&lt;keras.layers.advanced_activations.LeakyReLU o...</td>\n      <td>0.844762</td>\n    </tr>\n  </tbody>\n</table>\n</div>"
     },
     "execution_count": 76,
     "metadata": {},
     "output_type": "execute_result"
    }
   ],
   "source": [
    "results = pd.DataFrame(grid_results.cv_results_['params'])\n",
    "results['mean_test_score'] = grid_results.cv_results_['mean_test_score']\n",
    "results.sort_values(by=['mean_test_score'], ascending=False)"
   ],
   "metadata": {
    "collapsed": false,
    "pycharm": {
     "name": "#%%\n"
    }
   }
  },
  {
   "cell_type": "code",
   "execution_count": null,
   "outputs": [],
   "source": [
    "results.to_csv('out.csv')"
   ],
   "metadata": {
    "collapsed": false,
    "pycharm": {
     "name": "#%%\n"
    }
   }
  },
  {
   "cell_type": "code",
   "execution_count": 70,
   "metadata": {
    "pycharm": {
     "name": "#%%\n"
    }
   },
   "outputs": [
    {
     "name": "stdout",
     "output_type": "stream",
     "text": [
      "Epoch 1/50\n",
      "2841/2841 [==============================] - 24s 8ms/step - loss: 0.6930 - val_loss: 0.4829 - lr: 0.0010\n",
      "Epoch 2/50\n",
      "2841/2841 [==============================] - 23s 8ms/step - loss: 0.4369 - val_loss: 0.4386 - lr: 0.0010\n",
      "Epoch 3/50\n",
      "2841/2841 [==============================] - 22s 8ms/step - loss: 0.3546 - val_loss: 0.2335 - lr: 0.0010\n",
      "Epoch 4/50\n",
      "2841/2841 [==============================] - 23s 8ms/step - loss: 0.3058 - val_loss: 0.2096 - lr: 0.0010\n",
      "Epoch 5/50\n",
      "2841/2841 [==============================] - 25s 9ms/step - loss: 0.2544 - val_loss: 0.1763 - lr: 0.0010\n",
      "Epoch 6/50\n",
      "2841/2841 [==============================] - 23s 8ms/step - loss: 0.2193 - val_loss: 0.2810 - lr: 0.0010\n",
      "Epoch 7/50\n",
      "2841/2841 [==============================] - 22s 8ms/step - loss: 0.1826 - val_loss: 0.1312 - lr: 0.0010\n",
      "Epoch 8/50\n",
      "2841/2841 [==============================] - 24s 9ms/step - loss: 0.1586 - val_loss: 0.2738 - lr: 0.0010\n",
      "Epoch 9/50\n",
      "2841/2841 [==============================] - 25s 9ms/step - loss: 0.1494 - val_loss: 0.1380 - lr: 0.0010\n",
      "Epoch 10/50\n",
      "2841/2841 [==============================] - 23s 8ms/step - loss: 0.1245 - val_loss: 0.0938 - lr: 0.0010\n",
      "Epoch 11/50\n",
      "2841/2841 [==============================] - 23s 8ms/step - loss: 0.1136 - val_loss: 0.1261 - lr: 0.0010\n",
      "Epoch 12/50\n",
      "2841/2841 [==============================] - 24s 8ms/step - loss: 0.1080 - val_loss: 0.0860 - lr: 0.0010\n",
      "Epoch 13/50\n",
      "2841/2841 [==============================] - 23s 8ms/step - loss: 0.0983 - val_loss: 0.0751 - lr: 0.0010\n",
      "Epoch 14/50\n",
      "2841/2841 [==============================] - 23s 8ms/step - loss: 0.0919 - val_loss: 0.1003 - lr: 0.0010\n",
      "Epoch 15/50\n",
      "2841/2841 [==============================] - 23s 8ms/step - loss: 0.0746 - val_loss: 0.0673 - lr: 0.0010\n",
      "Epoch 16/50\n",
      "2841/2841 [==============================] - 23s 8ms/step - loss: 0.0794 - val_loss: 0.0866 - lr: 0.0010\n",
      "Epoch 17/50\n",
      "2841/2841 [==============================] - 23s 8ms/step - loss: 0.0669 - val_loss: 0.0645 - lr: 0.0010\n",
      "Epoch 18/50\n",
      "2841/2841 [==============================] - 22s 8ms/step - loss: 0.0766 - val_loss: 0.0874 - lr: 0.0010\n",
      "Epoch 19/50\n",
      "2841/2841 [==============================] - 24s 8ms/step - loss: 0.0761 - val_loss: 0.0529 - lr: 0.0010\n",
      "Epoch 20/50\n",
      "2841/2841 [==============================] - 23s 8ms/step - loss: 0.0676 - val_loss: 0.0749 - lr: 0.0010\n",
      "Epoch 21/50\n",
      "2841/2841 [==============================] - 23s 8ms/step - loss: 0.0659 - val_loss: 0.0756 - lr: 0.0010\n",
      "Epoch 22/50\n",
      "2841/2841 [==============================] - 24s 9ms/step - loss: 0.0729 - val_loss: 0.0603 - lr: 0.0010\n",
      "Epoch 23/50\n",
      "2841/2841 [==============================] - 23s 8ms/step - loss: 0.0283 - val_loss: 0.0330 - lr: 2.0000e-04\n",
      "Epoch 24/50\n",
      "2841/2841 [==============================] - 23s 8ms/step - loss: 0.0205 - val_loss: 0.0297 - lr: 2.0000e-04\n",
      "Epoch 25/50\n",
      "2841/2841 [==============================] - 24s 8ms/step - loss: 0.0161 - val_loss: 0.0309 - lr: 2.0000e-04\n",
      "Epoch 26/50\n",
      "2841/2841 [==============================] - 22s 8ms/step - loss: 0.0178 - val_loss: 0.0280 - lr: 2.0000e-04\n",
      "Epoch 27/50\n",
      "2841/2841 [==============================] - 23s 8ms/step - loss: 0.0125 - val_loss: 0.0313 - lr: 2.0000e-04\n",
      "Epoch 28/50\n",
      "2841/2841 [==============================] - 24s 8ms/step - loss: 0.0140 - val_loss: 0.0297 - lr: 2.0000e-04\n",
      "Epoch 29/50\n",
      "2841/2841 [==============================] - 22s 8ms/step - loss: 0.0124 - val_loss: 0.0295 - lr: 2.0000e-04\n",
      "Epoch 30/50\n",
      "2841/2841 [==============================] - 22s 8ms/step - loss: 0.0090 - val_loss: 0.0265 - lr: 1.0000e-04\n",
      "Epoch 31/50\n",
      "2841/2841 [==============================] - 23s 8ms/step - loss: 0.0078 - val_loss: 0.0286 - lr: 1.0000e-04\n",
      "Epoch 32/50\n",
      "2841/2841 [==============================] - 24s 8ms/step - loss: 0.0091 - val_loss: 0.0260 - lr: 1.0000e-04\n",
      "Epoch 33/50\n",
      "2841/2841 [==============================] - 22s 8ms/step - loss: 0.0088 - val_loss: 0.0274 - lr: 1.0000e-04\n",
      "Epoch 34/50\n",
      "2841/2841 [==============================] - 22s 8ms/step - loss: 0.0080 - val_loss: 0.0277 - lr: 1.0000e-04\n",
      "Epoch 35/50\n",
      "2841/2841 [==============================] - 23s 8ms/step - loss: 0.0071 - val_loss: 0.0253 - lr: 1.0000e-04\n",
      "Epoch 36/50\n",
      "2841/2841 [==============================] - 23s 8ms/step - loss: 0.0076 - val_loss: 0.0259 - lr: 1.0000e-04\n",
      "Epoch 37/50\n",
      "2841/2841 [==============================] - 24s 8ms/step - loss: 0.0078 - val_loss: 0.0286 - lr: 1.0000e-04\n",
      "Epoch 38/50\n",
      "2841/2841 [==============================] - 24s 8ms/step - loss: 0.0075 - val_loss: 0.0260 - lr: 1.0000e-04\n",
      "Epoch 39/50\n",
      "2841/2841 [==============================] - 23s 8ms/step - loss: 0.0074 - val_loss: 0.0278 - lr: 1.0000e-04\n",
      "Epoch 40/50\n",
      "2841/2841 [==============================] - 22s 8ms/step - loss: 0.0065 - val_loss: 0.0260 - lr: 1.0000e-04\n",
      "Epoch 41/50\n",
      "2841/2841 [==============================] - 23s 8ms/step - loss: 0.0067 - val_loss: 0.0271 - lr: 1.0000e-04\n",
      "Epoch 42/50\n",
      "2841/2841 [==============================] - 24s 9ms/step - loss: 0.0058 - val_loss: 0.0263 - lr: 1.0000e-04\n",
      "Epoch 43/50\n",
      "2841/2841 [==============================] - 23s 8ms/step - loss: 0.0061 - val_loss: 0.0270 - lr: 1.0000e-04\n",
      "Epoch 44/50\n",
      "2841/2841 [==============================] - 23s 8ms/step - loss: 0.0064 - val_loss: 0.0270 - lr: 1.0000e-04\n",
      "Epoch 45/50\n",
      "2841/2841 [==============================] - 23s 8ms/step - loss: 0.0051 - val_loss: 0.0274 - lr: 1.0000e-04\n"
     ]
    }
   ],
   "source": [
    "model.compile(loss='categorical_crossentropy',optimizer='Adam')\n",
    "history2 = model.fit(train_x1,train_y1, epochs = 50, shuffle=True,callbacks=[early_stopping_monitor,reduce_lr], validation_data=(valid_x,valid_y) , validation_freq=1, batch_size=16)"
   ]
  },
  {
   "cell_type": "code",
   "execution_count": 59,
   "outputs": [
    {
     "name": "stdout",
     "output_type": "stream",
     "text": [
      "Epoch 1/50\n",
      "2841/2841 [==============================] - 19s 6ms/step - loss: 0.6944 - lr: 0.0010\n",
      "Epoch 2/50\n",
      "2841/2841 [==============================] - 17s 6ms/step - loss: 0.4375 - lr: 0.0010\n",
      "Epoch 3/50\n",
      "2841/2841 [==============================] - 16s 6ms/step - loss: 0.3614 - lr: 0.0010\n",
      "Epoch 4/50\n",
      "2841/2841 [==============================] - 18s 6ms/step - loss: 0.3145 - lr: 0.0010\n",
      "Epoch 5/50\n",
      "2841/2841 [==============================] - 18s 6ms/step - loss: 0.2632 - lr: 0.0010\n",
      "Epoch 6/50\n",
      "2841/2841 [==============================] - 17s 6ms/step - loss: 0.2280 - lr: 0.0010\n",
      "Epoch 7/50\n",
      "2841/2841 [==============================] - 16s 6ms/step - loss: 0.1939 - lr: 0.0010\n",
      "Epoch 8/50\n",
      "2841/2841 [==============================] - 15s 5ms/step - loss: 0.1628 - lr: 0.0010\n",
      "Epoch 9/50\n",
      "2841/2841 [==============================] - 17s 6ms/step - loss: 0.1460 - lr: 0.0010\n",
      "Epoch 10/50\n",
      "2841/2841 [==============================] - 17s 6ms/step - loss: 0.1279 - lr: 0.0010\n",
      "Epoch 11/50\n",
      "2841/2841 [==============================] - 16s 6ms/step - loss: 0.1129 - lr: 0.0010\n",
      "Epoch 12/50\n",
      "2841/2841 [==============================] - 16s 5ms/step - loss: 0.1036 - lr: 0.0010\n",
      "Epoch 13/50\n",
      "2841/2841 [==============================] - 16s 6ms/step - loss: 0.0959 - lr: 0.0010\n",
      "Epoch 14/50\n",
      "2841/2841 [==============================] - 17s 6ms/step - loss: 0.0880 - lr: 0.0010\n",
      "Epoch 15/50\n",
      "2841/2841 [==============================] - 16s 6ms/step - loss: 0.0822 - lr: 0.0010\n",
      "Epoch 16/50\n",
      "2841/2841 [==============================] - 16s 6ms/step - loss: 0.0759 - lr: 0.0010\n",
      "Epoch 17/50\n",
      "2841/2841 [==============================] - 16s 6ms/step - loss: 0.0727 - lr: 0.0010\n",
      "Epoch 18/50\n",
      "2841/2841 [==============================] - 17s 6ms/step - loss: 0.0663 - lr: 0.0010\n",
      "Epoch 19/50\n",
      "2841/2841 [==============================] - 17s 6ms/step - loss: 0.0847 - lr: 0.0010\n",
      "Epoch 20/50\n",
      "2841/2841 [==============================] - 16s 6ms/step - loss: 0.0683 - lr: 0.0010\n",
      "Epoch 21/50\n",
      "2841/2841 [==============================] - 16s 6ms/step - loss: 0.0557 - lr: 0.0010\n",
      "Epoch 22/50\n",
      "2841/2841 [==============================] - 17s 6ms/step - loss: 0.0571 - lr: 0.0010\n",
      "Epoch 23/50\n",
      "2841/2841 [==============================] - 17s 6ms/step - loss: 0.0552 - lr: 0.0010\n",
      "Epoch 24/50\n",
      "2841/2841 [==============================] - 16s 6ms/step - loss: 0.0530 - lr: 0.0010\n",
      "Epoch 25/50\n",
      "2841/2841 [==============================] - 16s 5ms/step - loss: 0.0491 - lr: 0.0010\n",
      "Epoch 26/50\n",
      "2841/2841 [==============================] - 18s 6ms/step - loss: 0.0583 - lr: 0.0010\n",
      "Epoch 27/50\n",
      "2841/2841 [==============================] - 18s 6ms/step - loss: 0.0499 - lr: 0.0010\n",
      "Epoch 28/50\n",
      "2841/2841 [==============================] - 16s 6ms/step - loss: 0.0408 - lr: 0.0010\n",
      "Epoch 29/50\n",
      "2841/2841 [==============================] - 17s 6ms/step - loss: 0.0510 - lr: 0.0010\n",
      "Epoch 30/50\n",
      "2841/2841 [==============================] - 17s 6ms/step - loss: 0.0458 - lr: 0.0010\n",
      "Epoch 31/50\n",
      "2841/2841 [==============================] - 17s 6ms/step - loss: 0.0426 - lr: 0.0010\n",
      "Epoch 32/50\n",
      "2841/2841 [==============================] - 17s 6ms/step - loss: 0.0267 - lr: 5.0000e-04\n",
      "Epoch 33/50\n",
      "2841/2841 [==============================] - 16s 6ms/step - loss: 0.0188 - lr: 5.0000e-04\n",
      "Epoch 34/50\n",
      "2841/2841 [==============================] - 17s 6ms/step - loss: 0.0206 - lr: 5.0000e-04\n",
      "Epoch 35/50\n",
      "2841/2841 [==============================] - 17s 6ms/step - loss: 0.0166 - lr: 5.0000e-04\n",
      "Epoch 36/50\n",
      "2841/2841 [==============================] - 17s 6ms/step - loss: 0.0177 - lr: 5.0000e-04\n",
      "Epoch 37/50\n",
      "2841/2841 [==============================] - 18s 6ms/step - loss: 0.0208 - lr: 5.0000e-04\n",
      "Epoch 38/50\n",
      "2841/2841 [==============================] - 16s 6ms/step - loss: 0.0143 - lr: 5.0000e-04\n",
      "Epoch 39/50\n",
      "2841/2841 [==============================] - 16s 6ms/step - loss: 0.0185 - lr: 5.0000e-04\n",
      "Epoch 40/50\n",
      "2841/2841 [==============================] - 17s 6ms/step - loss: 0.0160 - lr: 5.0000e-04\n",
      "Epoch 41/50\n",
      "2841/2841 [==============================] - 17s 6ms/step - loss: 0.0181 - lr: 5.0000e-04\n",
      "Epoch 42/50\n",
      "2841/2841 [==============================] - 17s 6ms/step - loss: 0.0112 - lr: 2.5000e-04\n",
      "Epoch 43/50\n",
      "2841/2841 [==============================] - 16s 6ms/step - loss: 0.0087 - lr: 2.5000e-04\n",
      "Epoch 44/50\n",
      "2841/2841 [==============================] - 17s 6ms/step - loss: 0.0096 - lr: 2.5000e-04\n",
      "Epoch 45/50\n",
      "2841/2841 [==============================] - 17s 6ms/step - loss: 0.0074 - lr: 2.5000e-04\n",
      "Epoch 46/50\n",
      "2841/2841 [==============================] - 16s 6ms/step - loss: 0.0076 - lr: 2.5000e-04\n",
      "Epoch 47/50\n",
      "2841/2841 [==============================] - 16s 6ms/step - loss: 0.0100 - lr: 2.5000e-04\n",
      "Epoch 48/50\n",
      "2841/2841 [==============================] - 16s 6ms/step - loss: 0.0072 - lr: 2.5000e-04\n",
      "Epoch 49/50\n",
      "2841/2841 [==============================] - 16s 6ms/step - loss: 0.0067 - lr: 2.5000e-04\n",
      "Epoch 50/50\n",
      "2841/2841 [==============================] - 16s 6ms/step - loss: 0.0064 - lr: 2.5000e-04\n"
     ]
    }
   ],
   "source": [
    "model.compile(loss='categorical_crossentropy',optimizer='Adam')\n",
    "history2 = model.fit(train_x1,train_y1, epochs = 50, shuffle=True,callbacks=[early_stopping_monitor,reduce_lr], batch_size=16)"
   ],
   "metadata": {
    "collapsed": false,
    "pycharm": {
     "name": "#%%\n"
    }
   }
  },
  {
   "cell_type": "code",
   "execution_count": 71,
   "metadata": {
    "pycharm": {
     "name": "#%%\n"
    }
   },
   "outputs": [
    {
     "name": "stdout",
     "output_type": "stream",
     "text": [
      "              precision    recall  f1-score   support\n",
      "\n",
      "   emphysema     0.9896    0.9800    0.9848      1353\n",
      "    fibrosis     0.9937    0.9921    0.9929     10793\n",
      "ground_glass     0.9887    0.9891    0.9889      7245\n",
      "     healthy     0.9945    0.9962    0.9953      9624\n",
      "micronodules     0.9957    0.9964    0.9961     16437\n",
      "\n",
      "    accuracy                         0.9937     45452\n",
      "   macro avg     0.9924    0.9908    0.9916     45452\n",
      "weighted avg     0.9937    0.9937    0.9937     45452\n",
      "\n"
     ]
    },
    {
     "data": {
      "text/plain": "<Figure size 432x288 with 2 Axes>",
      "image/png": "[encoded data removed]"
     },
     "metadata": {
      "needs_background": "light"
     },
     "output_type": "display_data"
    }
   ],
   "source": [
    "from sklearn.metrics import classification_report, confusion_matrix, ConfusionMatrixDisplay\n",
    "preds = model.predict(valid_x)\n",
    "preds = enc.inverse_transform(preds)\n",
    "print(classification_report(enc.inverse_transform(valid_y),preds, digits=4))\n",
    "confusion_matrix(enc.inverse_transform(valid_y),preds)\n",
    "ConfusionMatrixDisplay.from_predictions(enc.inverse_transform(valid_y),preds, normalize='true', cmap='winter', xticks_rotation= 'vertical', values_format= '.2g')\n",
    "plt.show()"
   ]
  },
  {
   "cell_type": "code",
   "execution_count": 30,
   "metadata": {
    "pycharm": {
     "name": "#%%\n"
    }
   },
   "outputs": [
    {
     "name": "stderr",
     "output_type": "stream",
     "text": [
      "WARNING:absl:Found untraced functions such as leaky_re_lu_1_layer_call_fn, leaky_re_lu_1_layer_call_and_return_conditional_losses while saving (showing 2 of 2). These functions will not be directly callable after loading.\n"
     ]
    },
    {
     "name": "stdout",
     "output_type": "stream",
     "text": [
      "INFO:tensorflow:Assets written to: my_weights_9917_fall22022\\assets\n"
     ]
    },
    {
     "name": "stderr",
     "output_type": "stream",
     "text": [
      "INFO:tensorflow:Assets written to: my_weights_9917_fall22022\\assets\n"
     ]
    }
   ],
   "source": [
    "#saving my model\n",
    "model.save('my_weights_9917_fall22022')"
   ]
  },
  {
   "cell_type": "code",
   "execution_count": 31,
   "metadata": {
    "pycharm": {
     "name": "#%%\n"
    }
   },
   "outputs": [
    {
     "name": "stdout",
     "output_type": "stream",
     "text": [
      "Model: \"sequential_16\"\n",
      "_________________________________________________________________\n",
      " Layer (type)                Output Shape              Param #   \n",
      "=================================================================\n",
      " batch_normalization_28 (Bat  (None, 32, 32, 3)        12        \n",
      " chNormalization)                                                \n",
      "                                                                 \n",
      " conv2d_80 (Conv2D)          (None, 32, 32, 64)        1792      \n",
      "                                                                 \n",
      " conv2d_81 (Conv2D)          (None, 32, 32, 64)        36928     \n",
      "                                                                 \n",
      " max_pooling2d_16 (MaxPoolin  (None, 16, 16, 64)       0         \n",
      " g2D)                                                            \n",
      "                                                                 \n",
      " conv2d_82 (Conv2D)          (None, 16, 16, 128)       73856     \n",
      "                                                                 \n",
      " conv2d_83 (Conv2D)          (None, 16, 16, 128)       147584    \n",
      "                                                                 \n",
      " batch_normalization_29 (Bat  (None, 16, 16, 128)      512       \n",
      " chNormalization)                                                \n",
      "                                                                 \n",
      " max_pooling2d_17 (MaxPoolin  (None, 8, 8, 128)        0         \n",
      " g2D)                                                            \n",
      "                                                                 \n",
      " conv2d_84 (Conv2D)          (None, 8, 8, 256)         295168    \n",
      "                                                                 \n",
      " conv2d_85 (Conv2D)          (None, 8, 8, 256)         590080    \n",
      "                                                                 \n",
      " batch_normalization_30 (Bat  (None, 8, 8, 256)        1024      \n",
      " chNormalization)                                                \n",
      "                                                                 \n",
      " flatten_16 (Flatten)        (None, 16384)             0         \n",
      "                                                                 \n",
      " dense_60 (Dense)            (None, 200)               3277000   \n",
      "                                                                 \n",
      " dropout_24 (Dropout)        (None, 200)               0         \n",
      "                                                                 \n",
      " dense_61 (Dense)            (None, 200)               40200     \n",
      "                                                                 \n",
      " dropout_25 (Dropout)        (None, 200)               0         \n",
      "                                                                 \n",
      " dense_62 (Dense)            (None, 50)                10050     \n",
      "                                                                 \n",
      " dropout_26 (Dropout)        (None, 50)                0         \n",
      "                                                                 \n",
      " dense_63 (Dense)            (None, 5)                 255       \n",
      "                                                                 \n",
      "=================================================================\n",
      "Total params: 4,474,461\n",
      "Trainable params: 4,473,687\n",
      "Non-trainable params: 774\n",
      "_________________________________________________________________\n"
     ]
    }
   ],
   "source": [
    "##Testing older models ##my best model to date\n",
    "from keras.models import load_model\n",
    "model_saved = load_model('my_weights_9981_e100.h5')\n",
    "model_saved.summary()"
   ]
  },
  {
   "cell_type": "code",
   "execution_count": 32,
   "metadata": {
    "pycharm": {
     "name": "#%%\n"
    }
   },
   "outputs": [
    {
     "name": "stdout",
     "output_type": "stream",
     "text": [
      "              precision    recall  f1-score   support\n",
      "\n",
      "   emphysema     0.9978    0.9970    0.9974      1353\n",
      "    fibrosis     0.9969    0.9982    0.9975     10793\n",
      "ground_glass     0.9968    0.9965    0.9967      7245\n",
      "     healthy     0.9974    0.9983    0.9979      9624\n",
      "micronodules     0.9994    0.9981    0.9988     16437\n",
      "\n",
      "    accuracy                         0.9979     45452\n",
      "   macro avg     0.9977    0.9977    0.9977     45452\n",
      "weighted avg     0.9979    0.9979    0.9979     45452\n",
      "\n"
     ]
    },
    {
     "data": {
      "text/plain": "<Figure size 432x288 with 2 Axes>",
      "image/png": "[encoded data removed]"
     },
     "metadata": {
      "needs_background": "light"
     },
     "output_type": "display_data"
    }
   ],
   "source": [
    "from sklearn.metrics import classification_report, confusion_matrix, ConfusionMatrixDisplay\n",
    "preds = model_saved.predict(valid_x)\n",
    "preds = enc.inverse_transform(preds)\n",
    "print(classification_report(enc.inverse_transform(valid_y),preds, digits=4))\n",
    "confusion_matrix(enc.inverse_transform(valid_y),preds)\n",
    "ConfusionMatrixDisplay.from_predictions(enc.inverse_transform(valid_y),preds, normalize='true', cmap='winter', xticks_rotation= 'vertical', values_format= '.2g')\n",
    "plt.show()"
   ]
  },
  {
   "cell_type": "code",
   "execution_count": 33,
   "metadata": {
    "pycharm": {
     "name": "#%%\n"
    }
   },
   "outputs": [
    {
     "name": "stdout",
     "output_type": "stream",
     "text": [
      "              precision    recall  f1-score   support\n",
      "\n",
      "   emphysema     0.9948    0.9974    0.9961      2706\n",
      "    fibrosis     0.9970    0.9979    0.9974     21586\n",
      "ground_glass     0.9967    0.9965    0.9966     14490\n",
      "     healthy     0.9976    0.9988    0.9982     19247\n",
      "micronodules     0.9993    0.9979    0.9986     32874\n",
      "\n",
      "    accuracy                         0.9978     90903\n",
      "   macro avg     0.9971    0.9977    0.9974     90903\n",
      "weighted avg     0.9978    0.9978    0.9978     90903\n",
      "\n",
      "[[ 2699     5     1     1     0]\n",
      " [   10 21540    26     5     5]\n",
      " [    1    28 14439    14     8]\n",
      " [    0     8     5 19223    11]\n",
      " [    3    24    16    26 32805]]\n"
     ]
    }
   ],
   "source": [
    "##reports for entire dataset on initial model\n",
    "from sklearn.metrics import classification_report, confusion_matrix\n",
    "preds = model_saved.predict(np.array(images_rgb))\n",
    "preds = enc.inverse_transform(preds)\n",
    "print(classification_report(enc.inverse_transform(y_train),preds, digits=4))\n",
    "print(confusion_matrix(enc.inverse_transform(y_train),preds))"
   ]
  },
  {
   "cell_type": "code",
   "execution_count": 34,
   "metadata": {
    "pycharm": {
     "name": "#%%\n"
    }
   },
   "outputs": [
    {
     "name": "stdout",
     "output_type": "stream",
     "text": [
      "              precision    recall  f1-score   support\n",
      "\n",
      "   emphysema     0.9839    0.9952    0.9895      2706\n",
      "    fibrosis     0.9967    0.9943    0.9955     21586\n",
      "ground_glass     0.9915    0.9932    0.9923     14490\n",
      "     healthy     0.9965    0.9976    0.9970     19247\n",
      "micronodules     0.9976    0.9968    0.9972     32874\n",
      "\n",
      "    accuracy                         0.9958     90903\n",
      "   macro avg     0.9932    0.9954    0.9943     90903\n",
      "weighted avg     0.9958    0.9958    0.9958     90903\n",
      "\n",
      "[[ 2693     4     5     1     3]\n",
      " [   29 21464    57    12    24]\n",
      " [    3    49 14391    19    28]\n",
      " [    9     3    10 19200    25]\n",
      " [    3    15    52    35 32769]]\n"
     ]
    }
   ],
   "source": [
    "##reports over entire dataset on tuned model\n",
    "from sklearn.metrics import classification_report, confusion_matrix\n",
    "preds = model.predict(np.array(images_rgb))\n",
    "preds = enc.inverse_transform(preds)\n",
    "print(classification_report(enc.inverse_transform(y_train),preds, digits=4))\n",
    "print(confusion_matrix(enc.inverse_transform(y_train),preds))"
   ]
  },
  {
   "cell_type": "code",
   "execution_count": null,
   "metadata": {
    "pycharm": {
     "name": "#%%\n"
    }
   },
   "outputs": [],
   "source": []
  }
 ],
 "metadata": {
  "kernelspec": {
   "name": "conda-env-tensorflow-py",
   "language": "python",
   "display_name": "Python [conda env:tensorflow] *"
  },
  "language_info": {
   "codemirror_mode": {
    "name": "ipython",
    "version": 3
   },
   "file_extension": ".py",
   "mimetype": "text/x-python",
   "name": "python",
   "nbconvert_exporter": "python",
   "pygments_lexer": "ipython3",
   "version": "3.8.13"
  }
 },
 "nbformat": 4,
 "nbformat_minor": 1
}