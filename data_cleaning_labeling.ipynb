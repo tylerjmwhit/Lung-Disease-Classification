{
 "cells": [
  {
   "cell_type": "code",
   "execution_count": 2,
   "metadata": {
    "collapsed": true
   },
   "outputs": [],
   "source": [
    "import PIL.features\n",
    "import pandas as pd\n",
    "import glob\n",
    "from PIL import Image\n",
    "import numpy as np\n",
    "import gc\n",
    "from matplotlib.pyplot import *\n",
    "import os\n"
   ]
  },
  {
   "cell_type": "code",
   "execution_count": 3,
   "outputs": [
    {
     "name": "stdout",
     "output_type": "stream",
     "text": [
      "--------------------------------------------------------------------\n",
      "Pillow 9.0.1\n",
      "Python 3.8.13 (default, Mar 28 2022, 06:59:08) [MSC v.1916 64 bit (AMD64)]\n",
      "--------------------------------------------------------------------\n",
      "Python modules loaded from C:\\Users\\Tyler\\anaconda3\\envs\\tensorflow\\lib\\site-packages\\PIL\n",
      "Binary modules loaded from C:\\Users\\Tyler\\anaconda3\\envs\\tensorflow\\lib\\site-packages\\PIL\n",
      "--------------------------------------------------------------------\n",
      "--- PIL CORE support ok, compiled for 9.0.1\n",
      "--- TKINTER support ok, loaded 8.6\n",
      "--- FREETYPE2 support ok, loaded 2.10.4\n",
      "*** LITTLECMS2 support not installed\n",
      "--- WEBP support ok, loaded 1.2.0\n",
      "--- WEBP Transparency support ok\n",
      "*** WEBPMUX support not installed\n",
      "*** WEBP Animation support not installed\n",
      "--- JPEG support ok, compiled for 9.0\n",
      "*** OPENJPEG (JPEG2000) support not installed\n",
      "--- ZLIB (PNG/ZIP) support ok, loaded 1.2.11\n",
      "--- LIBTIFF support ok, loaded 4.2.0\n",
      "*** RAQM (Bidirectional Text) support not installed\n",
      "*** LIBIMAGEQUANT (Quantization method) support not installed\n",
      "*** XCB (X protocol) support not installed\n",
      "--------------------------------------------------------------------\n",
      "BLP\n",
      "Extensions: .blp\n",
      "Features: open\n",
      "--------------------------------------------------------------------\n",
      "BMP image/bmp\n",
      "Extensions: .bmp\n",
      "Features: open, save\n",
      "--------------------------------------------------------------------\n",
      "BUFR\n",
      "Extensions: .bufr\n",
      "Features: open, save\n",
      "--------------------------------------------------------------------\n",
      "CUR\n",
      "Extensions: .cur\n",
      "Features: open\n",
      "--------------------------------------------------------------------\n",
      "DCX\n",
      "Extensions: .dcx\n",
      "Features: open\n",
      "--------------------------------------------------------------------\n",
      "DDS\n",
      "Extensions: .dds\n",
      "Features: open, save\n",
      "--------------------------------------------------------------------\n",
      "DIB image/bmp\n",
      "Extensions: .dib\n",
      "Features: open, save\n",
      "--------------------------------------------------------------------\n",
      "EPS application/postscript\n",
      "Extensions: .eps, .ps\n",
      "Features: open, save\n",
      "--------------------------------------------------------------------\n",
      "FITS\n",
      "Extensions: .fit, .fits\n",
      "Features: open, save\n",
      "--------------------------------------------------------------------\n",
      "FLI\n",
      "Extensions: .flc, .fli\n",
      "Features: open\n",
      "--------------------------------------------------------------------\n",
      "FTEX\n",
      "Extensions: .ftc, .ftu\n",
      "Features: open\n",
      "--------------------------------------------------------------------\n",
      "GBR\n",
      "Extensions: .gbr\n",
      "Features: open\n",
      "--------------------------------------------------------------------\n",
      "GIF image/gif\n",
      "Extensions: .gif\n",
      "Features: open, save, save_all\n",
      "--------------------------------------------------------------------\n",
      "GRIB\n",
      "Extensions: .grib\n",
      "Features: open, save\n",
      "--------------------------------------------------------------------\n",
      "HDF5\n",
      "Extensions: .h5, .hdf\n",
      "Features: open, save\n",
      "--------------------------------------------------------------------\n",
      "ICNS image/icns\n",
      "Extensions: .icns\n",
      "Features: open, save\n",
      "--------------------------------------------------------------------\n",
      "ICO image/x-icon\n",
      "Extensions: .ico\n",
      "Features: open, save\n",
      "--------------------------------------------------------------------\n",
      "IM\n",
      "Extensions: .im\n",
      "Features: open, save\n",
      "--------------------------------------------------------------------\n",
      "IMT\n",
      "Features: open\n",
      "--------------------------------------------------------------------\n",
      "IPTC\n",
      "Extensions: .iim\n",
      "Features: open\n",
      "--------------------------------------------------------------------\n",
      "JPEG image/jpeg\n",
      "Extensions: .jfif, .jpe, .jpeg, .jpg\n",
      "Features: open, save\n",
      "--------------------------------------------------------------------\n",
      "JPEG2000 image/jp2\n",
      "Extensions: .j2c, .j2k, .jp2, .jpc, .jpf, .jpx\n",
      "Features: open, save\n",
      "--------------------------------------------------------------------\n",
      "MCIDAS\n",
      "Features: open\n",
      "--------------------------------------------------------------------\n",
      "MPEG video/mpeg\n",
      "Extensions: .mpeg, .mpg\n",
      "Features: open\n",
      "--------------------------------------------------------------------\n",
      "MSP\n",
      "Extensions: .msp\n",
      "Features: open, save, decode\n",
      "--------------------------------------------------------------------\n",
      "PCD\n",
      "Extensions: .pcd\n",
      "Features: open\n",
      "--------------------------------------------------------------------\n",
      "PCX image/x-pcx\n",
      "Extensions: .pcx\n",
      "Features: open, save\n",
      "--------------------------------------------------------------------\n",
      "PIXAR\n",
      "Extensions: .pxr\n",
      "Features: open\n",
      "--------------------------------------------------------------------\n",
      "PNG image/png\n",
      "Extensions: .apng, .png\n",
      "Features: open, save, save_all\n",
      "--------------------------------------------------------------------\n",
      "PPM image/x-portable-anymap\n",
      "Extensions: .pbm, .pgm, .pnm, .ppm\n",
      "Features: open, save\n",
      "--------------------------------------------------------------------\n",
      "PSD image/vnd.adobe.photoshop\n",
      "Extensions: .psd\n",
      "Features: open\n",
      "--------------------------------------------------------------------\n",
      "SGI image/sgi\n",
      "Extensions: .bw, .rgb, .rgba, .sgi\n",
      "Features: open, save\n",
      "--------------------------------------------------------------------\n",
      "SPIDER\n",
      "Features: open, save\n",
      "--------------------------------------------------------------------\n",
      "SUN\n",
      "Extensions: .ras\n",
      "Features: open\n",
      "--------------------------------------------------------------------\n",
      "TGA image/x-tga\n",
      "Extensions: .icb, .tga, .vda, .vst\n",
      "Features: open, save\n",
      "--------------------------------------------------------------------\n",
      "TIFF image/tiff\n",
      "Extensions: .tif, .tiff\n",
      "Features: open, save, save_all\n",
      "--------------------------------------------------------------------\n",
      "WEBP image/webp\n",
      "Extensions: .webp\n",
      "Features: open, save\n",
      "--------------------------------------------------------------------\n",
      "WMF\n",
      "Extensions: .emf, .wmf\n",
      "Features: open, save\n",
      "--------------------------------------------------------------------\n",
      "XBM image/xbm\n",
      "Extensions: .xbm\n",
      "Features: open, save\n",
      "--------------------------------------------------------------------\n",
      "XPM image/xpm\n",
      "Extensions: .xpm\n",
      "Features: open\n",
      "--------------------------------------------------------------------\n",
      "XVTHUMB\n",
      "Features: open\n",
      "--------------------------------------------------------------------\n"
     ]
    }
   ],
   "source": [
    "PIL.features.pilinfo()"
   ],
   "metadata": {
    "collapsed": false,
    "pycharm": {
     "name": "#%%\n"
    }
   }
  },
  {
   "cell_type": "code",
   "execution_count": 4,
   "outputs": [],
   "source": [
    "##functions for reading in folder of the images\n",
    "# def image_reader(foldername):\n",
    "#     images = []\n",
    "#     for f in glob.iglob(\"C:/Users/Tyler/PycharmProjects/EE485_Final_Project/Lung_images/\"+ foldername +\"/*\"):\n",
    "#         images.append(Image.open(f))\n",
    "#     images = np.asarray(images)\n",
    "#     #print(images.shape)\n",
    "#     label = [foldername for i in range(len(images))]\n",
    "#     R = images[:,:,:,0].tolist()\n",
    "#     G = images[:,:,:,1].tolist()\n",
    "#     B = images[:,:,:,2].tolist()\n",
    "#     #print(R.shape,G.shape,B.shape)\n",
    "#     images_dict = {'R': R, 'G': G, 'B':B , 'Label': label}\n",
    "#     df = pd.DataFrame(images_dict)\n",
    "#     return df"
   ],
   "metadata": {
    "collapsed": false,
    "pycharm": {
     "name": "#%%\n"
    }
   }
  },
  {
   "cell_type": "code",
   "execution_count": 5,
   "outputs": [],
   "source": [
    "## new verison of image_reader might be a little faster\n",
    "def image_reader(foldername):\n",
    "    dirname = os.path.join(os.getcwd(),'Lung_images',foldername)\n",
    "    numfiles = len(glob.glob(dirname + \"/*.png\"))\n",
    "    print(dirname, 'Number of files = ' + str(numfiles), sep = '\\n')\n",
    "    images = glob.glob(dirname + \"/*.png\")\n",
    "    R = []\n",
    "    G = []\n",
    "    B = []\n",
    "    label = []\n",
    "    for i in range(numfiles):\n",
    "        im = Image.open(images[i])\n",
    "        R.append(list(im.getchannel(0).getdata()))\n",
    "        G.append(list(im.getchannel(1).getdata()))\n",
    "        B.append(list(im.getchannel(2).getdata()))\n",
    "        label.append(foldername)\n",
    "    images_dict = {'R': R, 'G': G, 'B':B , 'Label': label}\n",
    "    df = pd.DataFrame(images_dict)\n",
    "    return df"
   ],
   "metadata": {
    "collapsed": false,
    "pycharm": {
     "name": "#%%\n"
    }
   }
  },
  {
   "cell_type": "code",
   "execution_count": 6,
   "outputs": [
    {
     "name": "stdout",
     "output_type": "stream",
     "text": [
      "C:\\Users\\Tyler\\PycharmProjects\\EE485_Final_Project\\Lung_images\\emphysema\n",
      "Number of files = 2706\n"
     ]
    }
   ],
   "source": [
    "#emphy images\n",
    "my_df_emph= image_reader('emphysema')"
   ],
   "metadata": {
    "collapsed": false,
    "pycharm": {
     "name": "#%%\n"
    }
   }
  },
  {
   "cell_type": "code",
   "source": [
    "my_df_emph"
   ],
   "metadata": {
    "collapsed": false,
    "pycharm": {
     "name": "#%%\n"
    }
   },
   "execution_count": 7,
   "outputs": [
    {
     "data": {
      "text/plain": "                                                      R  \\\n0     [255, 255, 255, 255, 255, 255, 255, 255, 255, ...   \n1     [255, 255, 255, 255, 255, 255, 255, 255, 255, ...   \n2     [255, 255, 255, 255, 255, 255, 255, 255, 255, ...   \n3     [255, 197, 174, 209, 255, 234, 151, 158, 172, ...   \n4     [172, 175, 193, 200, 144, 156, 165, 158, 133, ...   \n...                                                 ...   \n2701  [199, 153, 165, 191, 219, 204, 167, 177, 188, ...   \n2702  [188, 139, 124, 120, 255, 255, 255, 255, 255, ...   \n2703  [193, 200, 167, 175, 162, 183, 185, 164, 163, ...   \n2704  [163, 203, 184, 199, 255, 221, 168, 154, 176, ...   \n2705  [176, 169, 185, 167, 221, 245, 175, 161, 165, ...   \n\n                                                      G  \\\n0     [255, 255, 255, 255, 255, 255, 255, 255, 255, ...   \n1     [255, 255, 255, 255, 255, 255, 255, 255, 255, ...   \n2     [255, 255, 255, 255, 255, 255, 255, 166, 49, 0...   \n3     [49, 0, 0, 0, 100, 0, 0, 0, 0, 0, 0, 0, 0, 0, ...   \n4     [0, 0, 0, 0, 0, 0, 0, 0, 0, 0, 0, 0, 0, 0, 0, ...   \n...                                                 ...   \n2701  [0, 0, 0, 0, 0, 0, 0, 0, 0, 0, 0, 0, 9, 255, 2...   \n2702  [0, 0, 0, 0, 9, 255, 255, 255, 255, 255, 255, ...   \n2703  [0, 0, 0, 0, 0, 0, 0, 0, 0, 0, 0, 0, 159, 0, 0...   \n2704  [0, 0, 0, 0, 159, 0, 0, 0, 0, 0, 0, 0, 0, 0, 0...   \n2705  [0, 0, 0, 0, 0, 0, 0, 0, 0, 0, 0, 0, 0, 0, 35,...   \n\n                                                      B      Label  \n0     [166, 164, 186, 166, 139, 161, 165, 176, 255, ...  emphysema  \n1     [255, 255, 255, 205, 94, 118, 82, 110, 252, 25...  emphysema  \n2     [252, 255, 255, 255, 221, 142, 97, 0, 0, 0, 0,...  emphysema  \n3     [0, 0, 0, 0, 0, 0, 0, 0, 0, 0, 0, 0, 0, 0, 0, ...  emphysema  \n4     [0, 0, 0, 0, 0, 0, 0, 0, 0, 0, 0, 0, 0, 0, 0, ...  emphysema  \n...                                                 ...        ...  \n2701  [0, 0, 0, 0, 0, 0, 0, 0, 0, 0, 0, 0, 0, 255, 1...  emphysema  \n2702  [0, 0, 0, 0, 0, 255, 173, 180, 150, 100, 191, ...  emphysema  \n2703  [0, 0, 0, 0, 0, 0, 0, 0, 0, 0, 0, 0, 0, 0, 0, ...  emphysema  \n2704  [0, 0, 0, 0, 0, 0, 0, 0, 0, 0, 0, 0, 0, 0, 0, ...  emphysema  \n2705  [0, 0, 0, 0, 0, 0, 0, 0, 0, 0, 0, 0, 0, 0, 0, ...  emphysema  \n\n[2706 rows x 4 columns]",
      "text/html": "<div>\n<style scoped>\n    .dataframe tbody tr th:only-of-type {\n        vertical-align: middle;\n    }\n\n    .dataframe tbody tr th {\n        vertical-align: top;\n    }\n\n    .dataframe thead th {\n        text-align: right;\n    }\n</style>\n<table border=\"1\" class=\"dataframe\">\n  <thead>\n    <tr style=\"text-align: right;\">\n      <th></th>\n      <th>R</th>\n      <th>G</th>\n      <th>B</th>\n      <th>Label</th>\n    </tr>\n  </thead>\n  <tbody>\n    <tr>\n      <th>0</th>\n      <td>[255, 255, 255, 255, 255, 255, 255, 255, 255, ...</td>\n      <td>[255, 255, 255, 255, 255, 255, 255, 255, 255, ...</td>\n      <td>[166, 164, 186, 166, 139, 161, 165, 176, 255, ...</td>\n      <td>emphysema</td>\n    </tr>\n    <tr>\n      <th>1</th>\n      <td>[255, 255, 255, 255, 255, 255, 255, 255, 255, ...</td>\n      <td>[255, 255, 255, 255, 255, 255, 255, 255, 255, ...</td>\n      <td>[255, 255, 255, 205, 94, 118, 82, 110, 252, 25...</td>\n      <td>emphysema</td>\n    </tr>\n    <tr>\n      <th>2</th>\n      <td>[255, 255, 255, 255, 255, 255, 255, 255, 255, ...</td>\n      <td>[255, 255, 255, 255, 255, 255, 255, 166, 49, 0...</td>\n      <td>[252, 255, 255, 255, 221, 142, 97, 0, 0, 0, 0,...</td>\n      <td>emphysema</td>\n    </tr>\n    <tr>\n      <th>3</th>\n      <td>[255, 197, 174, 209, 255, 234, 151, 158, 172, ...</td>\n      <td>[49, 0, 0, 0, 100, 0, 0, 0, 0, 0, 0, 0, 0, 0, ...</td>\n      <td>[0, 0, 0, 0, 0, 0, 0, 0, 0, 0, 0, 0, 0, 0, 0, ...</td>\n      <td>emphysema</td>\n    </tr>\n    <tr>\n      <th>4</th>\n      <td>[172, 175, 193, 200, 144, 156, 165, 158, 133, ...</td>\n      <td>[0, 0, 0, 0, 0, 0, 0, 0, 0, 0, 0, 0, 0, 0, 0, ...</td>\n      <td>[0, 0, 0, 0, 0, 0, 0, 0, 0, 0, 0, 0, 0, 0, 0, ...</td>\n      <td>emphysema</td>\n    </tr>\n    <tr>\n      <th>...</th>\n      <td>...</td>\n      <td>...</td>\n      <td>...</td>\n      <td>...</td>\n    </tr>\n    <tr>\n      <th>2701</th>\n      <td>[199, 153, 165, 191, 219, 204, 167, 177, 188, ...</td>\n      <td>[0, 0, 0, 0, 0, 0, 0, 0, 0, 0, 0, 0, 9, 255, 2...</td>\n      <td>[0, 0, 0, 0, 0, 0, 0, 0, 0, 0, 0, 0, 0, 255, 1...</td>\n      <td>emphysema</td>\n    </tr>\n    <tr>\n      <th>2702</th>\n      <td>[188, 139, 124, 120, 255, 255, 255, 255, 255, ...</td>\n      <td>[0, 0, 0, 0, 9, 255, 255, 255, 255, 255, 255, ...</td>\n      <td>[0, 0, 0, 0, 0, 255, 173, 180, 150, 100, 191, ...</td>\n      <td>emphysema</td>\n    </tr>\n    <tr>\n      <th>2703</th>\n      <td>[193, 200, 167, 175, 162, 183, 185, 164, 163, ...</td>\n      <td>[0, 0, 0, 0, 0, 0, 0, 0, 0, 0, 0, 0, 159, 0, 0...</td>\n      <td>[0, 0, 0, 0, 0, 0, 0, 0, 0, 0, 0, 0, 0, 0, 0, ...</td>\n      <td>emphysema</td>\n    </tr>\n    <tr>\n      <th>2704</th>\n      <td>[163, 203, 184, 199, 255, 221, 168, 154, 176, ...</td>\n      <td>[0, 0, 0, 0, 159, 0, 0, 0, 0, 0, 0, 0, 0, 0, 0...</td>\n      <td>[0, 0, 0, 0, 0, 0, 0, 0, 0, 0, 0, 0, 0, 0, 0, ...</td>\n      <td>emphysema</td>\n    </tr>\n    <tr>\n      <th>2705</th>\n      <td>[176, 169, 185, 167, 221, 245, 175, 161, 165, ...</td>\n      <td>[0, 0, 0, 0, 0, 0, 0, 0, 0, 0, 0, 0, 0, 0, 35,...</td>\n      <td>[0, 0, 0, 0, 0, 0, 0, 0, 0, 0, 0, 0, 0, 0, 0, ...</td>\n      <td>emphysema</td>\n    </tr>\n  </tbody>\n</table>\n<p>2706 rows × 4 columns</p>\n</div>"
     },
     "execution_count": 7,
     "metadata": {},
     "output_type": "execute_result"
    }
   ]
  },
  {
   "cell_type": "code",
   "execution_count": 8,
   "outputs": [
    {
     "name": "stdout",
     "output_type": "stream",
     "text": [
      "C:\\Users\\Tyler\\PycharmProjects\\EE485_Final_Project\\Lung_images\\fibrosis\n",
      "Number of files = 21598\n"
     ]
    },
    {
     "data": {
      "text/plain": "                                                       R  \\\n0      [255, 255, 255, 255, 255, 255, 255, 255, 255, ...   \n1      [255, 255, 255, 255, 255, 255, 255, 255, 255, ...   \n2      [255, 255, 255, 255, 255, 255, 255, 255, 255, ...   \n3      [255, 255, 255, 255, 255, 255, 255, 255, 255, ...   \n4      [255, 255, 255, 255, 255, 255, 255, 255, 255, ...   \n...                                                  ...   \n21593  [177, 139, 151, 162, 141, 142, 174, 195, 221, ...   \n21594  [221, 255, 255, 255, 255, 255, 255, 255, 247, ...   \n21595  [247, 211, 255, 216, 196, 136, 161, 179, 185, ...   \n21596  [194, 238, 255, 255, 255, 255, 255, 255, 255, ...   \n21597  [255, 255, 255, 255, 192, 198, 159, 183, 194, ...   \n\n                                                       G  \\\n0      [255, 255, 255, 255, 255, 255, 255, 255, 255, ...   \n1      [255, 255, 255, 255, 255, 255, 255, 255, 255, ...   \n2      [255, 255, 255, 255, 255, 255, 255, 255, 255, ...   \n3      [255, 255, 255, 255, 255, 255, 255, 255, 255, ...   \n4      [255, 255, 255, 255, 255, 255, 255, 255, 255, ...   \n...                                                  ...   \n21593  [0, 0, 0, 0, 0, 0, 0, 0, 0, 227, 240, 255, 198...   \n21594  [0, 227, 240, 255, 198, 160, 27, 171, 0, 0, 3,...   \n21595  [0, 0, 3, 0, 0, 0, 0, 0, 0, 0, 0, 0, 0, 0, 0, ...   \n21596  [0, 0, 27, 18, 219, 255, 255, 255, 255, 137, 6...   \n21597  [255, 137, 66, 102, 0, 0, 0, 0, 0, 0, 0, 0, 9,...   \n\n                                                       B     Label  \n0      [178, 176, 166, 154, 122, 138, 110, 120, 117, ...  fibrosis  \n1      [117, 160, 168, 161, 130, 157, 208, 189, 135, ...  fibrosis  \n2      [135, 145, 129, 127, 151, 172, 222, 165, 174, ...  fibrosis  \n3      [167, 129, 180, 184, 190, 156, 133, 142, 188, ...  fibrosis  \n4      [188, 195, 212, 185, 181, 177, 175, 138, 149, ...  fibrosis  \n...                                                  ...       ...  \n21593  [0, 0, 0, 0, 0, 0, 0, 0, 0, 0, 0, 21, 0, 0, 0,...  fibrosis  \n21594  [0, 0, 0, 21, 0, 0, 0, 0, 0, 0, 0, 0, 0, 0, 0,...  fibrosis  \n21595  [0, 0, 0, 0, 0, 0, 0, 0, 0, 0, 0, 0, 0, 0, 0, ...  fibrosis  \n21596  [0, 0, 0, 0, 0, 110, 37, 24, 56, 0, 0, 0, 0, 0...  fibrosis  \n21597  [56, 0, 0, 0, 0, 0, 0, 0, 0, 0, 0, 0, 0, 0, 0,...  fibrosis  \n\n[21598 rows x 4 columns]",
      "text/html": "<div>\n<style scoped>\n    .dataframe tbody tr th:only-of-type {\n        vertical-align: middle;\n    }\n\n    .dataframe tbody tr th {\n        vertical-align: top;\n    }\n\n    .dataframe thead th {\n        text-align: right;\n    }\n</style>\n<table border=\"1\" class=\"dataframe\">\n  <thead>\n    <tr style=\"text-align: right;\">\n      <th></th>\n      <th>R</th>\n      <th>G</th>\n      <th>B</th>\n      <th>Label</th>\n    </tr>\n  </thead>\n  <tbody>\n    <tr>\n      <th>0</th>\n      <td>[255, 255, 255, 255, 255, 255, 255, 255, 255, ...</td>\n      <td>[255, 255, 255, 255, 255, 255, 255, 255, 255, ...</td>\n      <td>[178, 176, 166, 154, 122, 138, 110, 120, 117, ...</td>\n      <td>fibrosis</td>\n    </tr>\n    <tr>\n      <th>1</th>\n      <td>[255, 255, 255, 255, 255, 255, 255, 255, 255, ...</td>\n      <td>[255, 255, 255, 255, 255, 255, 255, 255, 255, ...</td>\n      <td>[117, 160, 168, 161, 130, 157, 208, 189, 135, ...</td>\n      <td>fibrosis</td>\n    </tr>\n    <tr>\n      <th>2</th>\n      <td>[255, 255, 255, 255, 255, 255, 255, 255, 255, ...</td>\n      <td>[255, 255, 255, 255, 255, 255, 255, 255, 255, ...</td>\n      <td>[135, 145, 129, 127, 151, 172, 222, 165, 174, ...</td>\n      <td>fibrosis</td>\n    </tr>\n    <tr>\n      <th>3</th>\n      <td>[255, 255, 255, 255, 255, 255, 255, 255, 255, ...</td>\n      <td>[255, 255, 255, 255, 255, 255, 255, 255, 255, ...</td>\n      <td>[167, 129, 180, 184, 190, 156, 133, 142, 188, ...</td>\n      <td>fibrosis</td>\n    </tr>\n    <tr>\n      <th>4</th>\n      <td>[255, 255, 255, 255, 255, 255, 255, 255, 255, ...</td>\n      <td>[255, 255, 255, 255, 255, 255, 255, 255, 255, ...</td>\n      <td>[188, 195, 212, 185, 181, 177, 175, 138, 149, ...</td>\n      <td>fibrosis</td>\n    </tr>\n    <tr>\n      <th>...</th>\n      <td>...</td>\n      <td>...</td>\n      <td>...</td>\n      <td>...</td>\n    </tr>\n    <tr>\n      <th>21593</th>\n      <td>[177, 139, 151, 162, 141, 142, 174, 195, 221, ...</td>\n      <td>[0, 0, 0, 0, 0, 0, 0, 0, 0, 227, 240, 255, 198...</td>\n      <td>[0, 0, 0, 0, 0, 0, 0, 0, 0, 0, 0, 21, 0, 0, 0,...</td>\n      <td>fibrosis</td>\n    </tr>\n    <tr>\n      <th>21594</th>\n      <td>[221, 255, 255, 255, 255, 255, 255, 255, 247, ...</td>\n      <td>[0, 227, 240, 255, 198, 160, 27, 171, 0, 0, 3,...</td>\n      <td>[0, 0, 0, 21, 0, 0, 0, 0, 0, 0, 0, 0, 0, 0, 0,...</td>\n      <td>fibrosis</td>\n    </tr>\n    <tr>\n      <th>21595</th>\n      <td>[247, 211, 255, 216, 196, 136, 161, 179, 185, ...</td>\n      <td>[0, 0, 3, 0, 0, 0, 0, 0, 0, 0, 0, 0, 0, 0, 0, ...</td>\n      <td>[0, 0, 0, 0, 0, 0, 0, 0, 0, 0, 0, 0, 0, 0, 0, ...</td>\n      <td>fibrosis</td>\n    </tr>\n    <tr>\n      <th>21596</th>\n      <td>[194, 238, 255, 255, 255, 255, 255, 255, 255, ...</td>\n      <td>[0, 0, 27, 18, 219, 255, 255, 255, 255, 137, 6...</td>\n      <td>[0, 0, 0, 0, 0, 110, 37, 24, 56, 0, 0, 0, 0, 0...</td>\n      <td>fibrosis</td>\n    </tr>\n    <tr>\n      <th>21597</th>\n      <td>[255, 255, 255, 255, 192, 198, 159, 183, 194, ...</td>\n      <td>[255, 137, 66, 102, 0, 0, 0, 0, 0, 0, 0, 0, 9,...</td>\n      <td>[56, 0, 0, 0, 0, 0, 0, 0, 0, 0, 0, 0, 0, 0, 0,...</td>\n      <td>fibrosis</td>\n    </tr>\n  </tbody>\n</table>\n<p>21598 rows × 4 columns</p>\n</div>"
     },
     "execution_count": 8,
     "metadata": {},
     "output_type": "execute_result"
    }
   ],
   "source": [
    "#fibrosis\n",
    "my_df_fibr = image_reader('fibrosis')\n",
    "my_df_fibr"
   ],
   "metadata": {
    "collapsed": false,
    "pycharm": {
     "name": "#%%\n"
    }
   }
  },
  {
   "cell_type": "code",
   "execution_count": 9,
   "outputs": [
    {
     "name": "stdout",
     "output_type": "stream",
     "text": [
      "C:\\Users\\Tyler\\PycharmProjects\\EE485_Final_Project\\Lung_images\\ground_glass\n",
      "Number of files = 14519\n"
     ]
    }
   ],
   "source": [
    "#ground_glass\n",
    "my_df_ground = image_reader('ground_glass')"
   ],
   "metadata": {
    "collapsed": false,
    "pycharm": {
     "name": "#%%\n"
    }
   }
  },
  {
   "cell_type": "code",
   "execution_count": 10,
   "outputs": [
    {
     "name": "stdout",
     "output_type": "stream",
     "text": [
      "C:\\Users\\Tyler\\PycharmProjects\\EE485_Final_Project\\Lung_images\\healthy\n",
      "Number of files = 19293\n"
     ]
    }
   ],
   "source": [
    "#healthy\n",
    "my_df_healthy = image_reader('healthy')"
   ],
   "metadata": {
    "collapsed": false,
    "pycharm": {
     "name": "#%%\n"
    }
   }
  },
  {
   "cell_type": "code",
   "execution_count": 11,
   "outputs": [
    {
     "name": "stdout",
     "output_type": "stream",
     "text": [
      "C:\\Users\\Tyler\\PycharmProjects\\EE485_Final_Project\\Lung_images\\micronodules\n",
      "Number of files = 32997\n"
     ]
    }
   ],
   "source": [
    "#micornodules\n",
    "my_df_micro = image_reader('micronodules')"
   ],
   "metadata": {
    "collapsed": false,
    "pycharm": {
     "name": "#%%\n"
    }
   }
  },
  {
   "cell_type": "code",
   "source": [
    "my_df_micro"
   ],
   "metadata": {
    "collapsed": false,
    "pycharm": {
     "name": "#%%\n"
    }
   },
   "execution_count": 20,
   "outputs": [
    {
     "data": {
      "text/plain": "                                                       R  \\\n0      [255, 255, 255, 255, 255, 255, 255, 255, 255, ...   \n1      [255, 255, 255, 207, 140, 167, 188, 190, 167, ...   \n2      [167, 173, 152, 206, 255, 255, 255, 255, 255, ...   \n3      [255, 255, 255, 255, 255, 255, 255, 255, 255, ...   \n4      [255, 255, 255, 255, 255, 255, 255, 255, 255, ...   \n...                                                  ...   \n32992  [255, 237, 255, 255, 255, 255, 255, 255, 255, ...   \n32993  [255, 255, 255, 233, 211, 209, 182, 205, 226, ...   \n32994  [226, 215, 206, 255, 255, 255, 255, 255, 238, ...   \n32995  [238, 237, 241, 255, 254, 255, 255, 255, 255, ...   \n32996  [255, 255, 255, 255, 213, 214, 252, 255, 255, ...   \n\n                                                       G  \\\n0      [255, 255, 255, 255, 255, 255, 255, 255, 255, ...   \n1      [255, 255, 160, 0, 0, 0, 0, 0, 0, 0, 0, 0, 141...   \n2      [0, 0, 0, 0, 141, 255, 255, 255, 255, 255, 255...   \n3      [255, 255, 255, 255, 255, 255, 255, 255, 255, ...   \n4      [255, 255, 255, 255, 255, 255, 255, 255, 255, ...   \n...                                                  ...   \n32992  [12, 0, 13, 82, 180, 254, 196, 106, 169, 81, 1...   \n32993  [19, 10, 2, 0, 0, 0, 0, 0, 0, 0, 0, 169, 255, ...   \n32994  [0, 0, 0, 169, 255, 255, 255, 31, 0, 0, 0, 34,...   \n32995  [0, 0, 0, 34, 0, 51, 134, 255, 255, 168, 27, 1...   \n32996  [255, 168, 27, 15, 0, 0, 0, 255, 255, 255, 244...   \n\n                                                       B         Label  \n0      [137, 145, 184, 127, 167, 175, 149, 124, 196, ...  micronodules  \n1      [196, 94, 0, 0, 0, 0, 0, 0, 0, 0, 0, 0, 0, 87,...  micronodules  \n2      [0, 0, 0, 0, 0, 87, 31, 16, 75, 180, 255, 255,...  micronodules  \n3      [142, 55, 139, 175, 153, 129, 100, 126, 159, 1...  micronodules  \n4      [159, 159, 161, 201, 210, 189, 205, 238, 191, ...  micronodules  \n...                                                  ...           ...  \n32992  [0, 0, 0, 0, 0, 0, 0, 0, 0, 0, 0, 0, 0, 0, 0, ...  micronodules  \n32993  [0, 0, 0, 0, 0, 0, 0, 0, 0, 0, 0, 0, 255, 252,...  micronodules  \n32994  [0, 0, 0, 0, 255, 252, 166, 0, 0, 0, 0, 0, 0, ...  micronodules  \n32995  [0, 0, 0, 0, 0, 0, 0, 151, 113, 0, 0, 0, 0, 0,...  micronodules  \n32996  [113, 0, 0, 0, 0, 0, 0, 93, 204, 99, 0, 0, 0, ...  micronodules  \n\n[32997 rows x 4 columns]",
      "text/html": "<div>\n<style scoped>\n    .dataframe tbody tr th:only-of-type {\n        vertical-align: middle;\n    }\n\n    .dataframe tbody tr th {\n        vertical-align: top;\n    }\n\n    .dataframe thead th {\n        text-align: right;\n    }\n</style>\n<table border=\"1\" class=\"dataframe\">\n  <thead>\n    <tr style=\"text-align: right;\">\n      <th></th>\n      <th>R</th>\n      <th>G</th>\n      <th>B</th>\n      <th>Label</th>\n    </tr>\n  </thead>\n  <tbody>\n    <tr>\n      <th>0</th>\n      <td>[255, 255, 255, 255, 255, 255, 255, 255, 255, ...</td>\n      <td>[255, 255, 255, 255, 255, 255, 255, 255, 255, ...</td>\n      <td>[137, 145, 184, 127, 167, 175, 149, 124, 196, ...</td>\n      <td>micronodules</td>\n    </tr>\n    <tr>\n      <th>1</th>\n      <td>[255, 255, 255, 207, 140, 167, 188, 190, 167, ...</td>\n      <td>[255, 255, 160, 0, 0, 0, 0, 0, 0, 0, 0, 0, 141...</td>\n      <td>[196, 94, 0, 0, 0, 0, 0, 0, 0, 0, 0, 0, 0, 87,...</td>\n      <td>micronodules</td>\n    </tr>\n    <tr>\n      <th>2</th>\n      <td>[167, 173, 152, 206, 255, 255, 255, 255, 255, ...</td>\n      <td>[0, 0, 0, 0, 141, 255, 255, 255, 255, 255, 255...</td>\n      <td>[0, 0, 0, 0, 0, 87, 31, 16, 75, 180, 255, 255,...</td>\n      <td>micronodules</td>\n    </tr>\n    <tr>\n      <th>3</th>\n      <td>[255, 255, 255, 255, 255, 255, 255, 255, 255, ...</td>\n      <td>[255, 255, 255, 255, 255, 255, 255, 255, 255, ...</td>\n      <td>[142, 55, 139, 175, 153, 129, 100, 126, 159, 1...</td>\n      <td>micronodules</td>\n    </tr>\n    <tr>\n      <th>4</th>\n      <td>[255, 255, 255, 255, 255, 255, 255, 255, 255, ...</td>\n      <td>[255, 255, 255, 255, 255, 255, 255, 255, 255, ...</td>\n      <td>[159, 159, 161, 201, 210, 189, 205, 238, 191, ...</td>\n      <td>micronodules</td>\n    </tr>\n    <tr>\n      <th>...</th>\n      <td>...</td>\n      <td>...</td>\n      <td>...</td>\n      <td>...</td>\n    </tr>\n    <tr>\n      <th>32992</th>\n      <td>[255, 237, 255, 255, 255, 255, 255, 255, 255, ...</td>\n      <td>[12, 0, 13, 82, 180, 254, 196, 106, 169, 81, 1...</td>\n      <td>[0, 0, 0, 0, 0, 0, 0, 0, 0, 0, 0, 0, 0, 0, 0, ...</td>\n      <td>micronodules</td>\n    </tr>\n    <tr>\n      <th>32993</th>\n      <td>[255, 255, 255, 233, 211, 209, 182, 205, 226, ...</td>\n      <td>[19, 10, 2, 0, 0, 0, 0, 0, 0, 0, 0, 169, 255, ...</td>\n      <td>[0, 0, 0, 0, 0, 0, 0, 0, 0, 0, 0, 0, 255, 252,...</td>\n      <td>micronodules</td>\n    </tr>\n    <tr>\n      <th>32994</th>\n      <td>[226, 215, 206, 255, 255, 255, 255, 255, 238, ...</td>\n      <td>[0, 0, 0, 169, 255, 255, 255, 31, 0, 0, 0, 34,...</td>\n      <td>[0, 0, 0, 0, 255, 252, 166, 0, 0, 0, 0, 0, 0, ...</td>\n      <td>micronodules</td>\n    </tr>\n    <tr>\n      <th>32995</th>\n      <td>[238, 237, 241, 255, 254, 255, 255, 255, 255, ...</td>\n      <td>[0, 0, 0, 34, 0, 51, 134, 255, 255, 168, 27, 1...</td>\n      <td>[0, 0, 0, 0, 0, 0, 0, 151, 113, 0, 0, 0, 0, 0,...</td>\n      <td>micronodules</td>\n    </tr>\n    <tr>\n      <th>32996</th>\n      <td>[255, 255, 255, 255, 213, 214, 252, 255, 255, ...</td>\n      <td>[255, 168, 27, 15, 0, 0, 0, 255, 255, 255, 244...</td>\n      <td>[113, 0, 0, 0, 0, 0, 0, 93, 204, 99, 0, 0, 0, ...</td>\n      <td>micronodules</td>\n    </tr>\n  </tbody>\n</table>\n<p>32997 rows × 4 columns</p>\n</div>"
     },
     "execution_count": 20,
     "metadata": {},
     "output_type": "execute_result"
    }
   ]
  },
  {
   "cell_type": "code",
   "execution_count": null,
   "outputs": [],
   "source": [
    "## final dataframe with all my images and labels\n",
    "final_df = pd.concat([my_df_micro,my_df_healthy,my_df_ground,my_df_fibr,my_df_emph])"
   ],
   "metadata": {
    "collapsed": false,
    "pycharm": {
     "name": "#%%\n"
    }
   }
  },
  {
   "cell_type": "code",
   "execution_count": 12,
   "outputs": [],
   "source": [
    "## final dataframe with all my images and labels\n",
    "final_df = pd.concat([my_df_micro,my_df_healthy,my_df_ground,my_df_fibr,my_df_emph])"
   ],
   "metadata": {
    "collapsed": false,
    "pycharm": {
     "name": "#%%\n"
    }
   }
  },
  {
   "cell_type": "code",
   "execution_count": 19,
   "outputs": [
    {
     "data": {
      "text/plain": "0"
     },
     "execution_count": 19,
     "metadata": {},
     "output_type": "execute_result"
    }
   ],
   "source": [
    "final_df.to_csv('labeled_df_s22.csv')\n",
    "gc.collect()"
   ],
   "metadata": {
    "collapsed": false,
    "pycharm": {
     "name": "#%%\n"
    }
   }
  },
  {
   "cell_type": "code",
   "execution_count": 14,
   "outputs": [],
   "source": [
    "import matplotlib.pyplot as plt"
   ],
   "metadata": {
    "collapsed": false,
    "pycharm": {
     "name": "#%%\n"
    }
   }
  },
  {
   "cell_type": "code",
   "execution_count": 15,
   "outputs": [
    {
     "data": {
      "text/plain": "<Figure size 432x288 with 5 Axes>",
      "image/png": "[encoded data removed]"
     },
     "metadata": {
      "needs_background": "light"
     },
     "output_type": "display_data"
    }
   ],
   "source": [
    "for i in range(0,5):\n",
    "    ax = plt.subplot(2, 5, i+1)\n",
    "    R = np.array(final_df[\"R\"].values[i]).reshape(32,32)\n",
    "    G = np.array(final_df[\"G\"].values[i]).reshape(32,32)\n",
    "    B = np.array(final_df[\"B\"].values[i]).reshape(32,32)\n",
    "    rgb = np.dstack((R,G,B))\n",
    "    ax.imshow(rgb)"
   ],
   "metadata": {
    "collapsed": false,
    "pycharm": {
     "name": "#%%\n"
    }
   }
  },
  {
   "cell_type": "code",
   "execution_count": 16,
   "outputs": [
    {
     "data": {
      "text/plain": "<matplotlib.image.AxesImage at 0x148f10a6cd0>"
     },
     "execution_count": 16,
     "metadata": {},
     "output_type": "execute_result"
    },
    {
     "data": {
      "text/plain": "<Figure size 432x288 with 1 Axes>",
      "image/png": "[encoded data removed]"
     },
     "metadata": {
      "needs_background": "light"
     },
     "output_type": "display_data"
    }
   ],
   "source": [
    "im = np.asarray(Image.open(\"C:/Users/Tyler/PycharmProjects/EE485_Final_Project/Lung_images/micronodules/micronodules_series2_slice0006_patch8010_patient182.png\"))\n",
    "plt.imshow(im)"
   ],
   "metadata": {
    "collapsed": false,
    "pycharm": {
     "name": "#%%\n"
    }
   }
  },
  {
   "cell_type": "code",
   "execution_count": 16,
   "outputs": [],
   "source": [],
   "metadata": {
    "collapsed": false,
    "pycharm": {
     "name": "#%%\n"
    }
   }
  }
 ],
 "metadata": {
  "kernelspec": {
   "name": "conda-env-tensorflow-py",
   "language": "python",
   "display_name": "Python [conda env:tensorflow] *"
  },
  "language_info": {
   "codemirror_mode": {
    "name": "ipython",
    "version": 2
   },
   "file_extension": ".py",
   "mimetype": "text/x-python",
   "name": "python",
   "nbconvert_exporter": "python",
   "pygments_lexer": "ipython2",
   "version": "2.7.6"
  }
 },
 "nbformat": 4,
 "nbformat_minor": 0
}
